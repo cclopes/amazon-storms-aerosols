{
 "nbformat": 4,
 "nbformat_minor": 2,
 "metadata": {
  "language_info": {
   "name": "python",
   "codemirror_mode": {
    "name": "ipython",
    "version": 3
   }
  },
  "orig_nbformat": 2,
  "file_extension": ".py",
  "mimetype": "text/x-python",
  "name": "python",
  "npconvert_exporter": "python",
  "pygments_lexer": "ipython3",
  "version": 3
 },
 "cells": [
  {
   "cell_type": "code",
   "execution_count": null,
   "metadata": {},
   "outputs": [],
   "source": [
    "%matplotlib inline\n",
    "\n",
    "import glob\n",
    "import numpy as np\n",
    "from matplotlib import pyplot as plt\n",
    "from matplotlib.animation import FuncAnimation\n",
    "\n",
    "import pyart\n",
    "from tint import Cell_tracks, animate"
   ]
  },
  {
   "cell_type": "code",
   "execution_count": null,
   "metadata": {},
   "outputs": [],
   "source": [
    "path = '/home/camila/git/amazon-storms-aerosols/'\n",
    "filenames = sorted([files for files in glob.glob(path + 'data/radar/sipam_manaus/arm/' + '**/*.HDF5', recursive=True)])\n",
    "len(filenames)"
   ]
  },
  {
   "cell_type": "code",
   "execution_count": null,
   "metadata": {},
   "outputs": [],
   "source": [
    "radar = pyart.aux_io.read_gamic(filenames[1000])"
   ]
  },
  {
   "cell_type": "code",
   "execution_count": null,
   "metadata": {},
   "outputs": [],
   "source": [
    "fig, ax = plt.figure(figsize=(5, 5))\n",
    "display = pyart.graph.RadarMapDisplay(radar)\n",
    "display.plot_ppi_map('reflectivity', sweep=1, vmin=-10, vmax=70, ax=ax,\n",
    "                     lon_0=-59.991, lat_0=-3.149, lon_lines=np.arange(-70, -50, 1), lat_lines=np.arange(-10, 0, 1),\n",
    "                     min_lon=-62.5, max_lon=-57.5, min_lat=-5.5, max_lat=-0.5,\n",
    "                     shapefile=path + 'data/general/shapefiles/estadosl_2007',\n",
    "                     shapefile_kwargs={'edgecolor': 'gray', 'linewidth': 1})\n",
    "ax.outline_patch.set_visible(False)\n",
    "ax.background_patch.set_visible(False)"
   ]
  },
  {
   "cell_type": "code",
   "execution_count": null,
   "metadata": {},
   "outputs": [],
   "source": [
    "def basic_plot(file):\n",
    "    \"\"\" \"\"\"\n",
    "    plt.clf()\n",
    "    radar = pyart.aux_io.read_gamic(file)\n",
    "    display = pyart.graph.RadarMapDisplay(radar)\n",
    "    display.plot_ppi_map('corrected_reflectivity', sweep=1, vmin=-10, vmax=70,\n",
    "                         lon_0=-59.991, lat_0=-3.149, lon_lines=np.arange(-70, -50, 1), lat_lines=np.arange(-10, 0, 1),\n",
    "                         min_lon=-62.5, max_lon=-57.5, min_lat=-5.5, max_lat=-0.5,\n",
    "                         shapefile=path + 'data/general/shapefiles/estadosl_2007',\n",
    "                         shapefile_kwargs={'crs': ccrs.PlateCarree(), 'edgecolor': 'gray',\n",
    "                                           'color': '', 'linewidth': 0.75})\n",
    "    del display, radar"
   ]
  },
  {
   "cell_type": "code",
   "execution_count": null,
   "metadata": {},
   "outputs": [],
   "source": []
  }
 ]
}