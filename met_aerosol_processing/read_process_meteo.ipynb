{
 "cells": [
  {
   "cell_type": "code",
   "execution_count": 9,
   "metadata": {},
   "outputs": [],
   "source": [
    "import xarray as xr\n",
    "\n",
    "from metpy.calc import cape_cin, dewpoint_from_relative_humidity, parcel_profile\n",
    "from metpy.units import units"
   ]
  },
  {
   "cell_type": "code",
   "execution_count": 10,
   "metadata": {},
   "outputs": [],
   "source": [
    "data_path = \"/data2/camilacl/git/amazon-storms-aerosols/data/meteo/\"\n",
    "\n",
    "vars = [\"pres\", \"alt\", \"tdry\", \"dp\"]\n",
    "sonde = xr.open_dataset(data_path + \"sondewnpn/maosondewnpnM1.b1.20140101.054700.cdf\").get(vars)\n",
    "\n",
    "pres = sonde.pres.values * units.hPa\n",
    "temp = sonde.tdry.values * units.degC\n",
    "tempd = sonde.dp.values * units.degC\n",
    "\n",
    "prof = parcel_profile(pres, temp[0], tempd[0]).to(\"degC\")\n",
    "\n",
    "cape, cin = cape_cin(pres, temp, tempd, prof)"
   ]
  },
  {
   "cell_type": "code",
   "execution_count": 11,
   "metadata": {},
   "outputs": [
    {
     "data": {
      "text/html": [
       "1019.4720087145726 joule/kilogram"
      ],
      "text/latex": [
       "$1019.4720087145726\\ \\frac{\\mathrm{joule}}{\\mathrm{kilogram}}$"
      ],
      "text/plain": [
       "1019.4720087145726 <Unit('joule / kilogram')>"
      ]
     },
     "execution_count": 11,
     "metadata": {},
     "output_type": "execute_result"
    }
   ],
   "source": [
    "cape"
   ]
  },
  {
   "cell_type": "code",
   "execution_count": 12,
   "metadata": {},
   "outputs": [
    {
     "data": {
      "text/html": [
       "-69.66805380810689 joule/kilogram"
      ],
      "text/latex": [
       "$-69.66805380810689\\ \\frac{\\mathrm{joule}}{\\mathrm{kilogram}}$"
      ],
      "text/plain": [
       "-69.66805380810689 <Unit('joule / kilogram')>"
      ]
     },
     "execution_count": 12,
     "metadata": {},
     "output_type": "execute_result"
    }
   ],
   "source": [
    "cin"
   ]
  }
 ],
 "metadata": {
  "kernelspec": {
   "display_name": "env-tathu",
   "language": "python",
   "name": "python3"
  },
  "language_info": {
   "codemirror_mode": {
    "name": "ipython",
    "version": 3
   },
   "file_extension": ".py",
   "mimetype": "text/x-python",
   "name": "python",
   "nbconvert_exporter": "python",
   "pygments_lexer": "ipython3",
   "version": "3.11.3"
  },
  "orig_nbformat": 4
 },
 "nbformat": 4,
 "nbformat_minor": 2
}
