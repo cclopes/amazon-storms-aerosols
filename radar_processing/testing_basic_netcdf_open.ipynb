{
 "cells": [
  {
   "cell_type": "markdown",
   "metadata": {},
   "source": [
    "# Testing NetCDF files\n",
    "@author: Camila Lopes (camila.lopes@iag.usp.br)"
   ]
  },
  {
   "cell_type": "code",
   "execution_count": null,
   "metadata": {
    "tags": []
   },
   "outputs": [],
   "source": [
    "import netCDF4\n",
    "import pyart\n",
    "import numpy as np\n",
    "import xarray"
   ]
  },
  {
   "cell_type": "code",
   "execution_count": null,
   "metadata": {
    "tags": []
   },
   "outputs": [],
   "source": [
    "# data1 = netCDF4.Dataset(\"../data/radar/mira_campina/03/06/20200306_0100.znc\")\n",
    "data_mira = netCDF4.Dataset(\"../data/radar/mira_campina/test_files/20201012_1200.mmclx\")\n",
    "# data2 = netCDF4.Dataset(\"../data/radar/ka_cordoba/ge/b1/corkazrcfrgeqcM1.b1.20181205.180005.nc\")\n",
    "\n",
    "print(data_mira)"
   ]
  },
  {
   "cell_type": "code",
   "execution_count": null,
   "metadata": {
    "tags": []
   },
   "outputs": [],
   "source": [
    "round(2*60/round(float(data1_1.hrd[data1_1.hrd.find(\"AVE\")+4:data1_1.hrd.find(\"\\nC\")])))\n",
    "# round(float(data1_1.hrd[data1_1.hrd.find(\"AVE\")+4:data1_1.hrd.find(\"\\nC\")]))"
   ]
  },
  {
   "cell_type": "code",
   "execution_count": null,
   "metadata": {},
   "outputs": [],
   "source": [
    "from skimage.measure import block_reduce\n",
    "\n",
    "block_reduce(data1_1.variables['MeltHei'][:], block_size=(15,), func=np.nanmean, cval=-9999)"
   ]
  },
  {
   "cell_type": "code",
   "execution_count": null,
   "metadata": {},
   "outputs": [],
   "source": [
    "to_include = ['MeltHei', 'MeltHeiDet', 'MeltHeiDB']\n",
    "\n",
    "with data1_1 as src, netCDF4.Dataset(\"out.nc\", \"w\") as dst:\n",
    "    # copy global attributes all at once via dictionary\n",
    "    dst.setncatts(src.__dict__)\n",
    "    # copy dimensions\n",
    "    for name, dimension in src.dimensions.items():\n",
    "        dst.createDimension(\n",
    "            name, (len(dimension) if not dimension.isunlimited() else None))\n",
    "    # copy all file data except for the excluded\n",
    "    for name, variable in src.variables.items():\n",
    "        if name in to_include:\n",
    "            x = dst.createVariable(name, variable.datatype, variable.dimensions)\n",
    "            dst[name][:] = src[name][:]\n",
    "            # copy variable attributes all at once via dictionary\n",
    "            dst[name].setncatts(src[name].__dict__)\n",
    "    "
   ]
  },
  {
   "cell_type": "code",
   "execution_count": null,
   "metadata": {},
   "outputs": [],
   "source": [
    "data1_1.variables.keys()"
   ]
  },
  {
   "cell_type": "code",
   "execution_count": null,
   "metadata": {},
   "outputs": [],
   "source": [
    "x = {'name': 'x', 'data': data1_1.variables['MeltHei'][:]}\n",
    "y = {'name': 'y', 'data': data1_1.variables['MeltHeiDet'][:]}\n",
    "z = {'name': 'z', 'data': data1_1.variables['MeltHeiDB'][:]}\n",
    "\n",
    "test = (x, y, z)\n",
    "\n",
    "np.ma.append(test[0]['data'], test[1]['data'])\n",
    "for i in range(3):\n",
    "    print(i)"
   ]
  },
  {
   "cell_type": "code",
   "execution_count": null,
   "metadata": {},
   "outputs": [],
   "source": [
    "melthei.close()\n",
    "# melthei = netCDF4.Dataset(\"testing.nc\", 'w')\n",
    "# melthei.createDimension(data1_1.dimensions['time'].name, data1_1.dimensions['time'].size)"
   ]
  },
  {
   "cell_type": "code",
   "execution_count": null,
   "metadata": {},
   "outputs": [],
   "source": [
    "var = melthei.createVariable('MeltHei', 'float32', ('time',))\n",
    "var[:] = data1_1.variables['MeltHei'][:]"
   ]
  },
  {
   "cell_type": "code",
   "execution_count": null,
   "metadata": {},
   "outputs": [],
   "source": [
    "# melthei.variables['MeltHei']\n",
    "data1_1.variables.keys()"
   ]
  },
  {
   "cell_type": "code",
   "execution_count": null,
   "metadata": {
    "tags": []
   },
   "outputs": [],
   "source": [
    "data2['time']"
   ]
  },
  {
   "cell_type": "code",
   "execution_count": null,
   "metadata": {
    "tags": []
   },
   "outputs": [],
   "source": [
    "data4 = xarray.open_dataset(\"../data/radar/mira_campina/03/06/20200306_0100.mmclx\")\n",
    "data4['VELg'].values"
   ]
  },
  {
   "cell_type": "code",
   "execution_count": null,
   "metadata": {
    "tags": []
   },
   "outputs": [],
   "source": [
    "from read_mira_radar import read_mira\n",
    "\n",
    "data3 = read_mira(\"../data/radar/mira_campina/03/06/20200306_0100.mmclx\")\n",
    "# data2 = read_mira(\"../data/radar/mira_campina/20200306_0100.mmclx\")"
   ]
  },
  {
   "cell_type": "code",
   "execution_count": null,
   "metadata": {
    "tags": []
   },
   "outputs": [],
   "source": [
    "data3.fields.keys()"
   ]
  },
  {
   "cell_type": "code",
   "execution_count": null,
   "metadata": {
    "tags": []
   },
   "outputs": [],
   "source": [
    "data3.time"
   ]
  },
  {
   "cell_type": "code",
   "execution_count": null,
   "metadata": {
    "tags": []
   },
   "outputs": [],
   "source": [
    "data3.fields['VEL']"
   ]
  },
  {
   "cell_type": "code",
   "execution_count": null,
   "metadata": {},
   "outputs": [],
   "source": [
    "data3.time['units']"
   ]
  },
  {
   "cell_type": "code",
   "execution_count": null,
   "metadata": {},
   "outputs": [],
   "source": [
    "netCDF4.num2date(data3.time['data'].compressed(), data3.time['units'], data3.time['calendar'])"
   ]
  },
  {
   "cell_type": "code",
   "execution_count": null,
   "metadata": {},
   "outputs": [],
   "source": [
    "netCDF4.num2date(data1['time'][0], data1['time'].long_name, calendar='gregorian')"
   ]
  },
  {
   "cell_type": "code",
   "execution_count": null,
   "metadata": {
    "tags": []
   },
   "outputs": [],
   "source": [
    "data.variables.keys()"
   ]
  },
  {
   "cell_type": "code",
   "execution_count": null,
   "metadata": {},
   "outputs": [],
   "source": [
    "299792458/data['lambda'][:]"
   ]
  },
  {
   "cell_type": "code",
   "execution_count": null,
   "metadata": {
    "tags": []
   },
   "outputs": [],
   "source": [
    "import numpy.ma as ma\n",
    "\n",
    "values = ma.MaskedArray.tolist(data1['time'][:])\n",
    "time = ma.array(values, dtype='float32', fill_value=999999)\n",
    "time\n",
    "# data1['time'][:]"
   ]
  },
  {
   "cell_type": "code",
   "execution_count": null,
   "metadata": {},
   "outputs": [],
   "source": [
    "netCDF4.num2date(data.time['data'][:], data.time['units'], calendar='gregorian',\n",
    "only_use_cftime_datetimes=False)"
   ]
  }
 ],
 "metadata": {
  "kernelspec": {
   "display_name": "Python 3",
   "language": "python",
   "name": "python3"
  },
  "language_info": {
   "codemirror_mode": {
    "name": "ipython",
    "version": 3
   },
   "file_extension": ".py",
   "mimetype": "text/x-python",
   "name": "python",
   "nbconvert_exporter": "python",
   "pygments_lexer": "ipython3",
   "version": "3.8.5-final"
  }
 },
 "nbformat": 4,
 "nbformat_minor": 4
}