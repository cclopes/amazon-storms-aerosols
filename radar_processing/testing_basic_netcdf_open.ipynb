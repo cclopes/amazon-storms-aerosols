{
 "cells": [
  {
   "cell_type": "code",
   "execution_count": 1,
   "metadata": {
    "tags": []
   },
   "outputs": [
    {
     "output_type": "stream",
     "name": "stdout",
     "text": [
      "\n## You are using the Python ARM Radar Toolkit (Py-ART), an open source\n## library for working with weather radar data. Py-ART is partly\n## supported by the U.S. Department of Energy as part of the Atmospheric\n## Radiation Measurement (ARM) Climate Research Facility, an Office of\n## Science user facility.\n##\n## If you use this software to prepare a publication, please cite:\n##\n##     JJ Helmus and SM Collis, JORS 2016, doi: 10.5334/jors.119\n\n"
     ]
    }
   ],
   "source": [
    "import netCDF4\n",
    "import pyart\n",
    "import numpy as np\n",
    "import xarray"
   ]
  },
  {
   "cell_type": "code",
   "execution_count": 2,
   "metadata": {
    "tags": []
   },
   "outputs": [
    {
     "output_type": "stream",
     "name": "stderr",
     "text": [
      "/home/cclopes/miniconda3/envs/amazon-storms-aerosols/lib/python3.8/site-packages/ipykernel/ipkernel.py:287: DeprecationWarning: `should_run_async` will not call `transform_cell` automatically in the future. Please pass the result to `transformed_cell` argument and any exception that happen during thetransform in `preprocessing_exc_tuple` in IPython 7.17 and above.\n  and should_run_async(code)\n"
     ]
    }
   ],
   "source": [
    "data1 = netCDF4.Dataset(\"../data/radar/mira_campina/03/06/20200306_0100.znc\")\n",
    "data1_1 = netCDF4.Dataset(\"../data/radar/mira_campina/03/06/20200306_0100.mmclx\")\n",
    "data2 = netCDF4.Dataset(\"../data/radar/ka_cordoba/ge/b1/corkazrcfrgeqcM1.b1.20181205.180005.nc\")"
   ]
  },
  {
   "cell_type": "code",
   "execution_count": 3,
   "metadata": {
    "tags": []
   },
   "outputs": [
    {
     "output_type": "stream",
     "name": "stderr",
     "text": [
      "/home/cclopes/miniconda3/envs/amazon-storms-aerosols/lib/python3.8/site-packages/ipykernel/ipkernel.py:287: DeprecationWarning: `should_run_async` will not call `transform_cell` automatically in the future. Please pass the result to `transformed_cell` argument and any exception that happen during thetransform in `preprocessing_exc_tuple` in IPython 7.17 and above.\n  and should_run_async(code)\n"
     ]
    },
    {
     "output_type": "execute_result",
     "data": {
      "text/plain": [
       "dict_keys(['nfft', 'prf', 'NyquistVelocity', 'nave', 'zrg', 'rg0', 'drg', 'lambda', 'range', 'time', 'microsec', 'tpow', 'npw1', 'npw2', 'cpw1', 'cpw2', 'grst', 'azi', 'elv', 'aziv', 'northangle', 'elvv', 'LO_Frequency', 'DetuneFine', 'SNR', 'VEL', 'RMS', 'LDR', 'NPK', 'SNRg', 'VELg', 'RMSg', 'LDRg', 'NPKg', 'SNRplank', 'VELplank', 'RMSplank', 'LDRplank', 'NPKplank', 'SNRrain', 'VELrain', 'RMSrain', 'LDRrain', 'NPKrain', 'SNRcl', 'VELcl', 'RMScl', 'LDRcl', 'NPKcl', 'SNRice', 'VELice', 'RMSice', 'LDRice', 'NPKice', 'RHO', 'DPS', 'RHOwav', 'DPSwav', 'HSDco', 'HSDcx', 'Ze', 'Zg', 'Z', 'RR', 'LWC', 'TEMP', 'MeltHei', 'MeltHeiDet', 'MeltHeiDB', 'ISDRco', 'ISDRcx', 'MRMco', 'MRMcx', 'RadarConst', 'SNRCorFaCo', 'SNRCorFaCx'])"
      ]
     },
     "metadata": {},
     "execution_count": 3
    }
   ],
   "source": [
    "data1_1.variables.keys()"
   ]
  },
  {
   "cell_type": "code",
   "execution_count": null,
   "metadata": {},
   "outputs": [],
   "source": [
    "to_include = ['MeltHei', 'MeltHeiDet', 'MeltHeiDB']\n",
    "\n",
    "with data1_1 as src, netCDF4.Dataset(\"out.nc\", \"w\") as dst:\n",
    "    # copy global attributes all at once via dictionary\n",
    "    dst.setncatts(src.__dict__)\n",
    "    # copy dimensions\n",
    "    for name, dimension in src.dimensions.items():\n",
    "        dst.createDimension(\n",
    "            name, (len(dimension) if not dimension.isunlimited() else None))\n",
    "    # copy all file data except for the excluded\n",
    "    for name, variable in src.variables.items():\n",
    "        if name in to_include:\n",
    "            x = dst.createVariable(name, variable.datatype, variable.dimensions)\n",
    "            dst[name][:] = src[name][:]\n",
    "            # copy variable attributes all at once via dictionary\n",
    "            dst[name].setncatts(src[name].__dict__)\n",
    "    "
   ]
  },
  {
   "cell_type": "code",
   "execution_count": 12,
   "metadata": {},
   "outputs": [
    {
     "output_type": "stream",
     "name": "stderr",
     "text": [
      "/home/cclopes/miniconda3/envs/amazon-storms-aerosols/lib/python3.8/site-packages/ipykernel/ipkernel.py:287: DeprecationWarning: `should_run_async` will not call `transform_cell` automatically in the future. Please pass the result to `transformed_cell` argument and any exception that happen during thetransform in `preprocessing_exc_tuple` in IPython 7.17 and above.\n  and should_run_async(code)\n"
     ]
    },
    {
     "output_type": "execute_result",
     "data": {
      "text/plain": [
       "dict_keys(['nfft', 'prf', 'NyquistVelocity', 'nave', 'zrg', 'rg0', 'drg', 'lambda', 'range', 'time', 'microsec', 'tpow', 'npw1', 'npw2', 'cpw1', 'cpw2', 'grst', 'azi', 'elv', 'aziv', 'northangle', 'elvv', 'LO_Frequency', 'DetuneFine', 'SNR', 'VEL', 'RMS', 'LDR', 'NPK', 'SNRg', 'VELg', 'RMSg', 'LDRg', 'NPKg', 'SNRplank', 'VELplank', 'RMSplank', 'LDRplank', 'NPKplank', 'SNRrain', 'VELrain', 'RMSrain', 'LDRrain', 'NPKrain', 'SNRcl', 'VELcl', 'RMScl', 'LDRcl', 'NPKcl', 'SNRice', 'VELice', 'RMSice', 'LDRice', 'NPKice', 'RHO', 'DPS', 'RHOwav', 'DPSwav', 'HSDco', 'HSDcx', 'Ze', 'Zg', 'Z', 'RR', 'LWC', 'TEMP', 'MeltHei', 'MeltHeiDet', 'MeltHeiDB', 'ISDRco', 'ISDRcx', 'MRMco', 'MRMcx', 'RadarConst', 'SNRCorFaCo', 'SNRCorFaCx'])"
      ]
     },
     "metadata": {},
     "execution_count": 12
    }
   ],
   "source": [
    "data1_1.variables.keys()"
   ]
  },
  {
   "cell_type": "code",
   "execution_count": 27,
   "metadata": {},
   "outputs": [
    {
     "output_type": "stream",
     "name": "stdout",
     "text": [
      "0\n",
      "1\n",
      "2\n",
      "/home/cclopes/miniconda3/envs/amazon-storms-aerosols/lib/python3.8/site-packages/ipykernel/ipkernel.py:287: DeprecationWarning: `should_run_async` will not call `transform_cell` automatically in the future. Please pass the result to `transformed_cell` argument and any exception that happen during thetransform in `preprocessing_exc_tuple` in IPython 7.17 and above.\n",
      "  and should_run_async(code)\n"
     ]
    }
   ],
   "source": [
    "x = {'name': 'x', 'data': data1_1.variables['MeltHei'][:]}\n",
    "y = {'name': 'y', 'data': data1_1.variables['MeltHeiDet'][:]}\n",
    "z = {'name': 'z', 'data': data1_1.variables['MeltHeiDB'][:]}\n",
    "\n",
    "test = (x, y, z)\n",
    "\n",
    "np.ma.append(test[0]['data'], test[1]['data'])\n",
    "for i in range(3):\n",
    "    print(i)"
   ]
  },
  {
   "cell_type": "code",
   "execution_count": null,
   "metadata": {},
   "outputs": [],
   "source": [
    "melthei.close()\n",
    "# melthei = netCDF4.Dataset(\"testing.nc\", 'w')\n",
    "# melthei.createDimension(data1_1.dimensions['time'].name, data1_1.dimensions['time'].size)"
   ]
  },
  {
   "cell_type": "code",
   "execution_count": null,
   "metadata": {},
   "outputs": [],
   "source": [
    "var = melthei.createVariable('MeltHei', 'float32', ('time',))\n",
    "var[:] = data1_1.variables['MeltHei'][:]"
   ]
  },
  {
   "cell_type": "code",
   "execution_count": null,
   "metadata": {},
   "outputs": [],
   "source": [
    "# melthei.variables['MeltHei']\n",
    "data1_1.variables.keys()"
   ]
  },
  {
   "cell_type": "code",
   "execution_count": null,
   "metadata": {
    "tags": []
   },
   "outputs": [],
   "source": [
    "data2['time']"
   ]
  },
  {
   "cell_type": "code",
   "execution_count": null,
   "metadata": {
    "tags": []
   },
   "outputs": [],
   "source": [
    "data4 = xarray.open_dataset(\"../data/radar/mira_campina/03/06/20200306_0100.mmclx\")\n",
    "data4['VELg'].values"
   ]
  },
  {
   "cell_type": "code",
   "execution_count": null,
   "metadata": {
    "tags": []
   },
   "outputs": [],
   "source": [
    "from read_mira_radar import read_mira\n",
    "\n",
    "data3 = read_mira(\"../data/radar/mira_campina/03/06/20200306_0100.mmclx\")\n",
    "# data2 = read_mira(\"../data/radar/mira_campina/20200306_0100.mmclx\")"
   ]
  },
  {
   "cell_type": "code",
   "execution_count": null,
   "metadata": {
    "tags": []
   },
   "outputs": [],
   "source": [
    "data3.fields.keys()"
   ]
  },
  {
   "cell_type": "code",
   "execution_count": null,
   "metadata": {
    "tags": []
   },
   "outputs": [],
   "source": [
    "data3.time"
   ]
  },
  {
   "cell_type": "code",
   "execution_count": null,
   "metadata": {
    "tags": []
   },
   "outputs": [],
   "source": [
    "data3.fields['VEL']"
   ]
  },
  {
   "cell_type": "code",
   "execution_count": null,
   "metadata": {},
   "outputs": [],
   "source": [
    "data3.time['units']"
   ]
  },
  {
   "cell_type": "code",
   "execution_count": null,
   "metadata": {},
   "outputs": [],
   "source": [
    "netCDF4.num2date(data3.time['data'].compressed(), data3.time['units'], data3.time['calendar'])"
   ]
  },
  {
   "cell_type": "code",
   "execution_count": null,
   "metadata": {},
   "outputs": [],
   "source": [
    "netCDF4.num2date(data1['time'][0], data1['time'].long_name, calendar='gregorian')"
   ]
  },
  {
   "cell_type": "code",
   "execution_count": null,
   "metadata": {
    "tags": []
   },
   "outputs": [],
   "source": [
    "data.variables.keys()"
   ]
  },
  {
   "cell_type": "code",
   "execution_count": null,
   "metadata": {},
   "outputs": [],
   "source": [
    "299792458/data['lambda'][:]"
   ]
  },
  {
   "cell_type": "code",
   "execution_count": null,
   "metadata": {
    "tags": []
   },
   "outputs": [],
   "source": [
    "import numpy.ma as ma\n",
    "\n",
    "values = ma.MaskedArray.tolist(data1['time'][:])\n",
    "time = ma.array(values, dtype='float32', fill_value=999999)\n",
    "time\n",
    "# data1['time'][:]"
   ]
  },
  {
   "cell_type": "code",
   "execution_count": null,
   "metadata": {},
   "outputs": [],
   "source": [
    "netCDF4.num2date(data.time['data'][:], data.time['units'], calendar='gregorian',\n",
    "only_use_cftime_datetimes=False)"
   ]
  }
 ],
 "metadata": {
  "kernelspec": {
   "display_name": "Python 3",
   "language": "python",
   "name": "python3"
  },
  "language_info": {
   "codemirror_mode": {
    "name": "ipython",
    "version": 3
   },
   "file_extension": ".py",
   "mimetype": "text/x-python",
   "name": "python",
   "nbconvert_exporter": "python",
   "pygments_lexer": "ipython3",
   "version": "3.8.5-final"
  }
 },
 "nbformat": 4,
 "nbformat_minor": 4
}