{
 "cells": [
  {
   "cell_type": "code",
   "execution_count": 1,
   "metadata": {
    "tags": []
   },
   "outputs": [
    {
     "name": "stdout",
     "output_type": "stream",
     "text": [
      "\n",
      "## You are using the Python ARM Radar Toolkit (Py-ART), an open source\n",
      "## library for working with weather radar data. Py-ART is partly\n",
      "## supported by the U.S. Department of Energy as part of the Atmospheric\n",
      "## Radiation Measurement (ARM) Climate Research Facility, an Office of\n",
      "## Science user facility.\n",
      "##\n",
      "## If you use this software to prepare a publication, please cite:\n",
      "##\n",
      "##     JJ Helmus and SM Collis, JORS 2016, doi: 10.5334/jors.119\n",
      "\n"
     ]
    }
   ],
   "source": [
    "import netCDF4\n",
    "import pyart\n",
    "import numpy as np\n",
    "import xarray"
   ]
  },
  {
   "cell_type": "code",
   "execution_count": 4,
   "metadata": {
    "tags": []
   },
   "outputs": [
    {
     "name": "stdout",
     "output_type": "stream",
     "text": [
      "<class 'netCDF4._netCDF4.Dataset'>\n",
      "root group (NETCDF3_CLASSIC data model, file format NETCDF3):\n",
      "    convention: CF-1.0\n",
      "    location: ATTO Campina\n",
      "    Altitude: 37m\n",
      "    Latitude: 02.1814S\n",
      "    Longitude: 59.0218W\n",
      "    system: C5XC\n",
      "    title: MIRA Cloud Radar Data\n",
      "    institution: USP\n",
      "    source: 201012_120003.pds.off\n",
      "    reference: Ka Band Cloud Radar MIRA, METEK GmbH www.metek.de\n",
      "    ppar: PRF:        5000\n",
      "PDR:         208\n",
      "SFT:         256\n",
      "AVC:         100\n",
      "IHP:           2\n",
      "CHG:         575\n",
      "POL:         208\n",
      "ATT:        1500\n",
      "TX:           0\n",
      "ADCGAIN0:      0.00000\n",
      "ADCGAIN1:      0.00000\n",
      "WND:           0\n",
      "POS: -2147483424\n",
      "ADD:          48\n",
      "LEN:           0\n",
      "CAL:          96\n",
      "NOS: -2147483648\n",
      "OF0:          40\n",
      "OF1:           0\n",
      "SWT:           0\n",
      "SUM:           0\n",
      "OSC:          26\n",
      "TST:           0\n",
      "COR:           1\n",
      "OFS:           0\n",
      "HSBN:           1\n",
      "HSBA:           1\n",
      "CALIBRPOWER_M:      1.00000\n",
      "CALIBRSNR_M:      281.838\n",
      "CALIBRPOWER_S:      1.00000\n",
      "CALIBRSNR_S:      234.423\n",
      "RAW_GATE1:           2\n",
      "RAW_GATE2:         575\n",
      "RAW:           0\n",
      "PRC:           1\n",
      "\n",
      "    hrd: NAME:201012_120003.pds.off\n",
      "OPER:Mon Oct 12 12:00:03 2020\n",
      "MULTI00\n",
      "DESCR:Altitude=37m:Latitude=02.1814S:Longitude=59.0218W\n",
      "PLACE:ATTO Campina\n",
      "SN:fzk\n",
      "LEN_PPAR:         140\n",
      "LEN_SRVI:          -1\n",
      "PRF:      5000.00\n",
      "PULSE_WIDTH:  2.08000e-07\n",
      "RX_PULSEWIDTH:  2.08000e-07\n",
      "TX_PULSEWIDTH:  2.08000e-07\n",
      "NFFT:         256\n",
      "AVC:         100\n",
      "AVE:      5.12000\n",
      "C:  2.99800e+08\n",
      "XMT:  3.51000e+10\n",
      "FZK100:      1.00000\n",
      "DELTA_H:      31.1792\n",
      "MOM_H_MIN:      62.3584\n",
      "MOM_ZRG:         573\n",
      "RAW_H_MIN:      62.3584\n",
      "RAW_ZRG:         573\n",
      "DO_RAW:           0\n",
      "VUAR:      21.3533\n",
      "VNY:      10.6766\n",
      "LA:   0.00854131\n",
      "POL:       1\n",
      "ATT:        1500\n",
      "\n",
      "    Copywright: \n",
      "    Copywright_Owner: \n",
      "    notes: It is accounted for the Receiver Bwd Loss in Radarconst*, and Z*.\n",
      "    dimensions(sizes): time(703), range(573)\n",
      "    variables(dimensions): int32 nfft(), int32 prf(), float32 NyquistVelocity(), int32 nave(), int32 zrg(), int32 rg0(), float32 drg(), float32 lambda(), float32 range(range), int32 time(time), int32 microsec(time), float32 tpow(time), float32 npw1(time), float32 npw2(time), float32 cpw1(time), float32 cpw2(time), int32 grst(time), float32 azi(time), float32 elv(time), float32 aziv(time), float32 northangle(time), float32 elvv(time), float32 LO_Frequency(time), float32 DetuneFine(time), float32 SNR(time, range), float32 VEL(time, range), float32 RMS(time, range), float32 LDR(time, range), int8 NPK(time, range), float32 SNRg(time, range), float32 VELg(time, range), float32 RMSg(time, range), float32 LDRg(time, range), int8 NPKg(time, range), float32 SNRplank(time, range), float32 VELplank(time, range), float32 RMSplank(time, range), float32 LDRplank(time, range), int8 NPKplank(time, range), float32 SNRrain(time, range), float32 VELrain(time, range), float32 RMSrain(time, range), float32 LDRrain(time, range), int8 NPKrain(time, range), float32 SNRcl(time, range), float32 VELcl(time, range), float32 RMScl(time, range), float32 LDRcl(time, range), int8 NPKcl(time, range), float32 SNRice(time, range), float32 VELice(time, range), float32 RMSice(time, range), float32 LDRice(time, range), int8 NPKice(time, range), float32 RHO(time, range), float32 DPS(time, range), float32 RHOwav(time, range), float32 DPSwav(time, range), float32 HSDco(time, range), float32 HSDcx(time, range), float32 Ze(time, range), float32 Zg(time, range), float32 Z(time, range), float32 RR(time, range), float32 LWC(time, range), float32 TEMP(time, range), float32 MeltHei(time), float32 MeltHeiDet(time), float32 MeltHeiDB(time), float32 ISDRco(time, range), float32 ISDRcx(time, range), float32 MRMco(time), float32 MRMcx(time), float32 RadarConst(time), float32 SNRCorFaCo(time, range), float32 SNRCorFaCx(time, range)\n",
      "    groups: \n"
     ]
    },
    {
     "name": "stderr",
     "output_type": "stream",
     "text": [
      "/home/cclopes/miniconda3/envs/amazon-storms-aerosols/lib/python3.8/site-packages/ipykernel/ipkernel.py:287: DeprecationWarning: `should_run_async` will not call `transform_cell` automatically in the future. Please pass the result to `transformed_cell` argument and any exception that happen during thetransform in `preprocessing_exc_tuple` in IPython 7.17 and above.\n",
      "  and should_run_async(code)\n"
     ]
    }
   ],
   "source": [
    "# data1 = netCDF4.Dataset(\"../data/radar/mira_campina/03/06/20200306_0100.znc\")\n",
    "data_mira = netCDF4.Dataset(\"../data/radar/mira_campina/test_files/20201012_1200.mmclx\")\n",
    "# data2 = netCDF4.Dataset(\"../data/radar/ka_cordoba/ge/b1/corkazrcfrgeqcM1.b1.20181205.180005.nc\")\n",
    "\n",
    "print(data_mira)"
   ]
  },
  {
   "cell_type": "code",
   "execution_count": 30,
   "metadata": {
    "tags": []
   },
   "outputs": [
    {
     "name": "stderr",
     "output_type": "stream",
     "text": [
      "/home/cclopes/miniconda3/envs/amazon-storms-aerosols/lib/python3.8/site-packages/ipykernel/ipkernel.py:287: DeprecationWarning: `should_run_async` will not call `transform_cell` automatically in the future. Please pass the result to `transformed_cell` argument and any exception that happen during thetransform in `preprocessing_exc_tuple` in IPython 7.17 and above.\n",
      "  and should_run_async(code)\n"
     ]
    },
    {
     "data": {
      "text/plain": [
       "12"
      ]
     },
     "execution_count": 30,
     "metadata": {},
     "output_type": "execute_result"
    }
   ],
   "source": [
    "round(2*60/round(float(data1_1.hrd[data1_1.hrd.find(\"AVE\")+4:data1_1.hrd.find(\"\\nC\")])))\n",
    "# round(float(data1_1.hrd[data1_1.hrd.find(\"AVE\")+4:data1_1.hrd.find(\"\\nC\")]))"
   ]
  },
  {
   "cell_type": "code",
   "execution_count": 7,
   "metadata": {},
   "outputs": [
    {
     "name": "stderr",
     "output_type": "stream",
     "text": [
      "/home/cclopes/miniconda3/envs/amazon-storms-aerosols/lib/python3.8/site-packages/ipykernel/ipkernel.py:287: DeprecationWarning: `should_run_async` will not call `transform_cell` automatically in the future. Please pass the result to `transformed_cell` argument and any exception that happen during thetransform in `preprocessing_exc_tuple` in IPython 7.17 and above.\n",
      "  and should_run_async(code)\n"
     ]
    },
    {
     "data": {
      "text/plain": [
       "array([ 1371.8848,  1371.8848,  1371.8848,  1371.8848,  1371.8848,\n",
       "        1371.8848,  1371.8848,  1371.8848,  1371.8848,  1371.8848,\n",
       "        1371.8848,  1371.8848,  1371.8848,  1371.8848,  1371.8848,\n",
       "        1371.8848,  1371.8848,  1371.8848,  1371.8848,  1371.8848,\n",
       "        1371.8848,  1371.8848,  1371.8848, -5450.646 ], dtype=float32)"
      ]
     },
     "execution_count": 7,
     "metadata": {},
     "output_type": "execute_result"
    }
   ],
   "source": [
    "from skimage.measure import block_reduce\n",
    "\n",
    "block_reduce(data1_1.variables['MeltHei'][:], block_size=(15,), func=np.nanmean, cval=-9999)"
   ]
  },
  {
   "cell_type": "code",
   "execution_count": null,
   "metadata": {},
   "outputs": [],
   "source": [
    "to_include = ['MeltHei', 'MeltHeiDet', 'MeltHeiDB']\n",
    "\n",
    "with data1_1 as src, netCDF4.Dataset(\"out.nc\", \"w\") as dst:\n",
    "    # copy global attributes all at once via dictionary\n",
    "    dst.setncatts(src.__dict__)\n",
    "    # copy dimensions\n",
    "    for name, dimension in src.dimensions.items():\n",
    "        dst.createDimension(\n",
    "            name, (len(dimension) if not dimension.isunlimited() else None))\n",
    "    # copy all file data except for the excluded\n",
    "    for name, variable in src.variables.items():\n",
    "        if name in to_include:\n",
    "            x = dst.createVariable(name, variable.datatype, variable.dimensions)\n",
    "            dst[name][:] = src[name][:]\n",
    "            # copy variable attributes all at once via dictionary\n",
    "            dst[name].setncatts(src[name].__dict__)\n",
    "    "
   ]
  },
  {
   "cell_type": "code",
   "execution_count": 12,
   "metadata": {},
   "outputs": [
    {
     "name": "stderr",
     "output_type": "stream",
     "text": [
      "/home/cclopes/miniconda3/envs/amazon-storms-aerosols/lib/python3.8/site-packages/ipykernel/ipkernel.py:287: DeprecationWarning: `should_run_async` will not call `transform_cell` automatically in the future. Please pass the result to `transformed_cell` argument and any exception that happen during thetransform in `preprocessing_exc_tuple` in IPython 7.17 and above.\n",
      "  and should_run_async(code)\n"
     ]
    },
    {
     "data": {
      "text/plain": [
       "dict_keys(['nfft', 'prf', 'NyquistVelocity', 'nave', 'zrg', 'rg0', 'drg', 'lambda', 'range', 'time', 'microsec', 'tpow', 'npw1', 'npw2', 'cpw1', 'cpw2', 'grst', 'azi', 'elv', 'aziv', 'northangle', 'elvv', 'LO_Frequency', 'DetuneFine', 'SNR', 'VEL', 'RMS', 'LDR', 'NPK', 'SNRg', 'VELg', 'RMSg', 'LDRg', 'NPKg', 'SNRplank', 'VELplank', 'RMSplank', 'LDRplank', 'NPKplank', 'SNRrain', 'VELrain', 'RMSrain', 'LDRrain', 'NPKrain', 'SNRcl', 'VELcl', 'RMScl', 'LDRcl', 'NPKcl', 'SNRice', 'VELice', 'RMSice', 'LDRice', 'NPKice', 'RHO', 'DPS', 'RHOwav', 'DPSwav', 'HSDco', 'HSDcx', 'Ze', 'Zg', 'Z', 'RR', 'LWC', 'TEMP', 'MeltHei', 'MeltHeiDet', 'MeltHeiDB', 'ISDRco', 'ISDRcx', 'MRMco', 'MRMcx', 'RadarConst', 'SNRCorFaCo', 'SNRCorFaCx'])"
      ]
     },
     "execution_count": 12,
     "metadata": {},
     "output_type": "execute_result"
    }
   ],
   "source": [
    "data1_1.variables.keys()"
   ]
  },
  {
   "cell_type": "code",
   "execution_count": 27,
   "metadata": {},
   "outputs": [
    {
     "name": "stdout",
     "output_type": "stream",
     "text": [
      "0\n",
      "1\n",
      "2\n",
      "/home/cclopes/miniconda3/envs/amazon-storms-aerosols/lib/python3.8/site-packages/ipykernel/ipkernel.py:287: DeprecationWarning: `should_run_async` will not call `transform_cell` automatically in the future. Please pass the result to `transformed_cell` argument and any exception that happen during thetransform in `preprocessing_exc_tuple` in IPython 7.17 and above.\n",
      "  and should_run_async(code)\n"
     ]
    }
   ],
   "source": [
    "x = {'name': 'x', 'data': data1_1.variables['MeltHei'][:]}\n",
    "y = {'name': 'y', 'data': data1_1.variables['MeltHeiDet'][:]}\n",
    "z = {'name': 'z', 'data': data1_1.variables['MeltHeiDB'][:]}\n",
    "\n",
    "test = (x, y, z)\n",
    "\n",
    "np.ma.append(test[0]['data'], test[1]['data'])\n",
    "for i in range(3):\n",
    "    print(i)"
   ]
  },
  {
   "cell_type": "code",
   "execution_count": null,
   "metadata": {},
   "outputs": [],
   "source": [
    "melthei.close()\n",
    "# melthei = netCDF4.Dataset(\"testing.nc\", 'w')\n",
    "# melthei.createDimension(data1_1.dimensions['time'].name, data1_1.dimensions['time'].size)"
   ]
  },
  {
   "cell_type": "code",
   "execution_count": null,
   "metadata": {},
   "outputs": [],
   "source": [
    "var = melthei.createVariable('MeltHei', 'float32', ('time',))\n",
    "var[:] = data1_1.variables['MeltHei'][:]"
   ]
  },
  {
   "cell_type": "code",
   "execution_count": null,
   "metadata": {},
   "outputs": [],
   "source": [
    "# melthei.variables['MeltHei']\n",
    "data1_1.variables.keys()"
   ]
  },
  {
   "cell_type": "code",
   "execution_count": null,
   "metadata": {
    "tags": []
   },
   "outputs": [],
   "source": [
    "data2['time']"
   ]
  },
  {
   "cell_type": "code",
   "execution_count": null,
   "metadata": {
    "tags": []
   },
   "outputs": [],
   "source": [
    "data4 = xarray.open_dataset(\"../data/radar/mira_campina/03/06/20200306_0100.mmclx\")\n",
    "data4['VELg'].values"
   ]
  },
  {
   "cell_type": "code",
   "execution_count": null,
   "metadata": {
    "tags": []
   },
   "outputs": [],
   "source": [
    "from read_mira_radar import read_mira\n",
    "\n",
    "data3 = read_mira(\"../data/radar/mira_campina/03/06/20200306_0100.mmclx\")\n",
    "# data2 = read_mira(\"../data/radar/mira_campina/20200306_0100.mmclx\")"
   ]
  },
  {
   "cell_type": "code",
   "execution_count": null,
   "metadata": {
    "tags": []
   },
   "outputs": [],
   "source": [
    "data3.fields.keys()"
   ]
  },
  {
   "cell_type": "code",
   "execution_count": null,
   "metadata": {
    "tags": []
   },
   "outputs": [],
   "source": [
    "data3.time"
   ]
  },
  {
   "cell_type": "code",
   "execution_count": null,
   "metadata": {
    "tags": []
   },
   "outputs": [],
   "source": [
    "data3.fields['VEL']"
   ]
  },
  {
   "cell_type": "code",
   "execution_count": null,
   "metadata": {},
   "outputs": [],
   "source": [
    "data3.time['units']"
   ]
  },
  {
   "cell_type": "code",
   "execution_count": null,
   "metadata": {},
   "outputs": [],
   "source": [
    "netCDF4.num2date(data3.time['data'].compressed(), data3.time['units'], data3.time['calendar'])"
   ]
  },
  {
   "cell_type": "code",
   "execution_count": null,
   "metadata": {},
   "outputs": [],
   "source": [
    "netCDF4.num2date(data1['time'][0], data1['time'].long_name, calendar='gregorian')"
   ]
  },
  {
   "cell_type": "code",
   "execution_count": null,
   "metadata": {
    "tags": []
   },
   "outputs": [],
   "source": [
    "data.variables.keys()"
   ]
  },
  {
   "cell_type": "code",
   "execution_count": null,
   "metadata": {},
   "outputs": [],
   "source": [
    "299792458/data['lambda'][:]"
   ]
  },
  {
   "cell_type": "code",
   "execution_count": null,
   "metadata": {
    "tags": []
   },
   "outputs": [],
   "source": [
    "import numpy.ma as ma\n",
    "\n",
    "values = ma.MaskedArray.tolist(data1['time'][:])\n",
    "time = ma.array(values, dtype='float32', fill_value=999999)\n",
    "time\n",
    "# data1['time'][:]"
   ]
  },
  {
   "cell_type": "code",
   "execution_count": null,
   "metadata": {},
   "outputs": [],
   "source": [
    "netCDF4.num2date(data.time['data'][:], data.time['units'], calendar='gregorian',\n",
    "only_use_cftime_datetimes=False)"
   ]
  }
 ],
 "metadata": {
  "kernelspec": {
   "display_name": "Python 3",
   "language": "python",
   "name": "python3"
  },
  "language_info": {
   "codemirror_mode": {
    "name": "ipython",
    "version": 3
   },
   "file_extension": ".py",
   "mimetype": "text/x-python",
   "name": "python",
   "nbconvert_exporter": "python",
   "pygments_lexer": "ipython3",
   "version": "3.8.5-final"
  }
 },
 "nbformat": 4,
 "nbformat_minor": 4
}