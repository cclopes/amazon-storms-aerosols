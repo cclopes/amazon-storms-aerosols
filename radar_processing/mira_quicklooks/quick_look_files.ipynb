{
 "cells": [
  {
   "cell_type": "code",
   "execution_count": 1,
   "metadata": {},
   "outputs": [
    {
     "name": "stdout",
     "output_type": "stream",
     "text": [
      "\n",
      "## You are using the Python ARM Radar Toolkit (Py-ART), an open source\n",
      "## library for working with weather radar data. Py-ART is partly\n",
      "## supported by the U.S. Department of Energy as part of the Atmospheric\n",
      "## Radiation Measurement (ARM) Climate Research Facility, an Office of\n",
      "## Science user facility.\n",
      "##\n",
      "## If you use this software to prepare a publication, please cite:\n",
      "##\n",
      "##     JJ Helmus and SM Collis, JORS 2016, doi: 10.5334/jors.119\n",
      "\n"
     ]
    }
   ],
   "source": [
    "import netCDF4\n",
    "\n",
    "from read_mira_radar import read_mira"
   ]
  },
  {
   "cell_type": "code",
   "execution_count": 3,
   "metadata": {},
   "outputs": [
    {
     "name": "stderr",
     "output_type": "stream",
     "text": [
      "/home/cclopes/miniconda3/envs/amazon-storms-aerosols/lib/python3.8/site-packages/ipykernel/ipkernel.py:287: DeprecationWarning: `should_run_async` will not call `transform_cell` automatically in the future. Please pass the result to `transformed_cell` argument and any exception that happen during thetransform in `preprocessing_exc_tuple` in IPython 7.17 and above.\n",
      "  and should_run_async(code)\n"
     ]
    }
   ],
   "source": [
    "data_path = \"/home/cclopes/git/amazon-storms-aerosols/data/radar/mira_campina/\"\n",
    "\n",
    "# mira = read_mira(data_path + \"2020/08/05/05/20200805_1200.mmclx\")[0]\n",
    "mira = netCDF4.Dataset(data_path + \"2020/08/05/05/20200805_1200.mmclx\")"
   ]
  },
  {
   "cell_type": "code",
   "execution_count": 4,
   "metadata": {},
   "outputs": [
    {
     "name": "stdout",
     "output_type": "stream",
     "text": [
      "<class 'netCDF4._netCDF4.Dataset'>\n",
      "root group (NETCDF3_CLASSIC data model, file format NETCDF3):\n",
      "    convention: CF-1.0\n",
      "    location: ATTO Campina\n",
      "    Altitude: 37m\n",
      "    Latitude: 02.1814S\n",
      "    Longitude: 59.0218W\n",
      "    system: C5XC\n",
      "    title: MIRA Cloud Radar Data\n",
      "    institution: USP\n",
      "    source: 200805_120003.pds.off\n",
      "    reference: Ka Band Cloud Radar MIRA, METEK GmbH www.metek.de\n",
      "    ppar: PRF:        5000\n",
      "PDR:         208\n",
      "SFT:         256\n",
      "AVC:         200\n",
      "IHP:           2\n",
      "CHG:         575\n",
      "POL:         208\n",
      "ATT:        1500\n",
      "TX:           0\n",
      "ADCGAIN0:      0.00000\n",
      "ADCGAIN1:      0.00000\n",
      "WND:           0\n",
      "POS: -2147483424\n",
      "ADD:          48\n",
      "LEN:           0\n",
      "CAL:          96\n",
      "NOS: -2147483648\n",
      "OF0:          40\n",
      "OF1:           0\n",
      "SWT:           0\n",
      "SUM:           0\n",
      "OSC:          26\n",
      "TST:           0\n",
      "COR:           1\n",
      "OFS:           0\n",
      "HSBN:           1\n",
      "HSBA:           1\n",
      "CALIBRPOWER_M:      1.00000\n",
      "CALIBRSNR_M:      281.838\n",
      "CALIBRPOWER_S:      1.00000\n",
      "CALIBRSNR_S:      234.423\n",
      "RAW_GATE1:           2\n",
      "RAW_GATE2:         575\n",
      "RAW:           0\n",
      "PRC:           1\n",
      "\n",
      "    hrd: NAME:200805_120003.pds.off\n",
      "OPER:Wed Aug  5 12:00:03 2020\n",
      "MULTI00\n",
      "DESCR:Altitude=37m:Latitude=02.1814S:Longitude=59.0218W\n",
      "PLACE:ATTO Campina\n",
      "SN:fzk\n",
      "LEN_PPAR:         140\n",
      "LEN_SRVI:          -1\n",
      "PRF:      5000.00\n",
      "PULSE_WIDTH:  2.08000e-07\n",
      "RX_PULSEWIDTH:  2.08000e-07\n",
      "TX_PULSEWIDTH:  2.08000e-07\n",
      "NFFT:         256\n",
      "AVC:         200\n",
      "AVE:      10.2400\n",
      "C:  2.99800e+08\n",
      "XMT:  3.51000e+10\n",
      "FZK100:      1.00000\n",
      "DELTA_H:      31.1792\n",
      "MOM_H_MIN:      62.3584\n",
      "MOM_ZRG:         573\n",
      "RAW_H_MIN:      62.3584\n",
      "RAW_ZRG:         573\n",
      "DO_RAW:           0\n",
      "VUAR:      21.3533\n",
      "VNY:      10.6766\n",
      "LA:   0.00854131\n",
      "POL:       1\n",
      "ATT:        1500\n",
      "\n",
      "    Copywright: \n",
      "    Copywright_Owner: \n",
      "    notes: It is accounted for the Receiver Bwd Loss in Radarconst*, and Z*.\n",
      "    dimensions(sizes): time(351), range(573)\n",
      "    variables(dimensions): int32 nfft(), int32 prf(), float32 NyquistVelocity(), int32 nave(), int32 zrg(), int32 rg0(), float32 drg(), float32 lambda(), float32 range(range), int32 time(time), int32 microsec(time), float32 tpow(time), float32 npw1(time), float32 npw2(time), float32 cpw1(time), float32 cpw2(time), int32 grst(time), float32 azi(time), float32 elv(time), float32 aziv(time), float32 northangle(time), float32 elvv(time), float32 LO_Frequency(time), float32 DetuneFine(time), float32 SNR(time, range), float32 VEL(time, range), float32 RMS(time, range), float32 LDR(time, range), int8 NPK(time, range), float32 SNRg(time, range), float32 VELg(time, range), float32 RMSg(time, range), float32 LDRg(time, range), int8 NPKg(time, range), float32 SNRplank(time, range), float32 VELplank(time, range), float32 RMSplank(time, range), float32 LDRplank(time, range), int8 NPKplank(time, range), float32 SNRrain(time, range), float32 VELrain(time, range), float32 RMSrain(time, range), float32 LDRrain(time, range), int8 NPKrain(time, range), float32 SNRcl(time, range), float32 VELcl(time, range), float32 RMScl(time, range), float32 LDRcl(time, range), int8 NPKcl(time, range), float32 SNRice(time, range), float32 VELice(time, range), float32 RMSice(time, range), float32 LDRice(time, range), int8 NPKice(time, range), float32 RHO(time, range), float32 DPS(time, range), float32 RHOwav(time, range), float32 DPSwav(time, range), float32 HSDco(time, range), float32 HSDcx(time, range), float32 Ze(time, range), float32 Zg(time, range), float32 Z(time, range), float32 RR(time, range), float32 LWC(time, range), float32 TEMP(time, range), float32 MeltHei(time), float32 MeltHeiDet(time), float32 MeltHeiDB(time), float32 ISDRco(time, range), float32 ISDRcx(time, range), float32 MRMco(time), float32 MRMcx(time), float32 RadarConst(time), float32 SNRCorFaCo(time, range), float32 SNRCorFaCx(time, range)\n",
      "    groups: \n"
     ]
    },
    {
     "name": "stderr",
     "output_type": "stream",
     "text": [
      "/home/cclopes/miniconda3/envs/amazon-storms-aerosols/lib/python3.8/site-packages/ipykernel/ipkernel.py:287: DeprecationWarning: `should_run_async` will not call `transform_cell` automatically in the future. Please pass the result to `transformed_cell` argument and any exception that happen during thetransform in `preprocessing_exc_tuple` in IPython 7.17 and above.\n",
      "  and should_run_async(code)\n"
     ]
    }
   ],
   "source": [
    "# for var in mira.variables.keys():\n",
    "#     print(mira.variables[var].long_name)\n",
    "\n",
    "print(mira)"
   ]
  }
 ],
 "metadata": {
  "interpreter": {
   "hash": "d32b0e4e81467ccc4f13ba795e022151ce2d762a6cc362b62533d2f738214da3"
  },
  "kernelspec": {
   "display_name": "Python 3.8.5 64-bit ('amazon-storms-aerosols': conda)",
   "name": "python3"
  },
  "language_info": {
   "codemirror_mode": {
    "name": "ipython",
    "version": 3
   },
   "file_extension": ".py",
   "mimetype": "text/x-python",
   "name": "python",
   "nbconvert_exporter": "python",
   "pygments_lexer": "ipython3",
   "version": "3.8.5"
  },
  "orig_nbformat": 2
 },
 "nbformat": 4,
 "nbformat_minor": 2
}