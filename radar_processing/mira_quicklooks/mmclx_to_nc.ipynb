{
 "cells": [
  {
   "cell_type": "code",
   "execution_count": 58,
   "metadata": {},
   "outputs": [],
   "source": [
    "from glob import glob\n",
    "from datetime import datetime, timezone\n",
    "\n",
    "import matplotlib.pyplot as plt\n",
    "\n",
    "import netCDF4\n"
   ]
  },
  {
   "cell_type": "code",
   "execution_count": 76,
   "metadata": {},
   "outputs": [],
   "source": [
    "data_path = \"/home/camila/git/amazon-storms-aerosols/data/radar/mira_campina/\"\n",
    "mmclx = netCDF4.Dataset(data_path + \"2020/10/24/20201024_0600.mmclx\")\n",
    "# znc = netCDF4.Dataset(data_path + \"2020/10/24/20201024_0600.znc\")"
   ]
  },
  {
   "cell_type": "code",
   "execution_count": 77,
   "metadata": {},
   "outputs": [],
   "source": [
    "mmclx = mmclx.transpose()\n",
    "mmclx = mmclx.assign_coords(time = pd.to_datetime(mmclx.time.values, unit=\"s\"))"
   ]
  },
  {
   "cell_type": "code",
   "execution_count": null,
   "metadata": {},
   "outputs": [],
   "source": [
    "for var in mmclx.variables.keys():\n",
    "    print(var, \"-\", mmclx.variables[var].long_name)"
   ]
  },
  {
   "cell_type": "code",
   "execution_count": null,
   "metadata": {},
   "outputs": [],
   "source": [
    "mmclx.variables[\"time\"][:]"
   ]
  }
 ],
 "metadata": {
  "interpreter": {
   "hash": "c5dc9ed22ffbdc273dbccfa1c2f8e90ec484a87c342bde475926eb9be35929cb"
  },
  "kernelspec": {
   "display_name": "Python 3.8.6 64-bit ('radar-processing': conda)",
   "language": "python",
   "name": "python3"
  },
  "language_info": {
   "codemirror_mode": {
    "name": "ipython",
    "version": 3
   },
   "file_extension": ".py",
   "mimetype": "text/x-python",
   "name": "python",
   "nbconvert_exporter": "python",
   "pygments_lexer": "ipython3",
   "version": "3.8.6"
  },
  "orig_nbformat": 4
 },
 "nbformat": 4,
 "nbformat_minor": 2
}
