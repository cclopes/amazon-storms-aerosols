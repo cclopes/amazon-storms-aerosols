{
  "nbformat": 4,
  "nbformat_minor": 0,
  "metadata": {
    "colab": {
      "name": "comparando_kazr_mira_colab.ipynb",
      "provenance": [],
      "collapsed_sections": []
    },
    "kernelspec": {
      "name": "python3",
      "display_name": "Python 3"
    }
  },
  "cells": [
    {
      "cell_type": "markdown",
      "metadata": {
        "id": "BwtVL15Wna-s",
        "colab_type": "text"
      },
      "source": [
        "## 1. Importando os pacotes necessários\n",
        "\n",
        "O Py-ART consegue ler tanto os arquivos a1 quanto b1"
      ]
    },
    {
      "cell_type": "code",
      "metadata": {
        "id": "1fknhl17xE5j",
        "colab_type": "code",
        "colab": {},
        "tags": []
      },
      "source": [
        "import pyart\n",
        "import matplotlib.pyplot as plt\n",
        "import numpy as np\n",
        "import os\n",
        "from glob import glob\n",
        "from skimage.measure import block_reduce\n",
        "\n",
        "from read_mira_radar import read_multi_mira"
      ],
      "execution_count": 1,
      "outputs": [
        {
          "output_type": "stream",
          "name": "stdout",
          "text": [
            "\n## You are using the Python ARM Radar Toolkit (Py-ART), an open source\n## library for working with weather radar data. Py-ART is partly\n## supported by the U.S. Department of Energy as part of the Atmospheric\n## Radiation Measurement (ARM) Climate Research Facility, an Office of\n## Science user facility.\n##\n## If you use this software to prepare a publication, please cite:\n##\n##     JJ Helmus and SM Collis, JORS 2016, doi: 10.5334/jors.119\n\n"
          ]
        }
      ]
    },
    {
      "cell_type": "markdown",
      "metadata": {
        "id": "5Q3EREsSnrB8",
        "colab_type": "text"
      },
      "source": [
        "## 2. Abrindo os arquivos\n",
        "\n",
        "### 2.1 Definindo o caminho dos arquivos"
      ]
    },
    {
      "cell_type": "code",
      "metadata": {
        "id": "OxteHUG-trvC",
        "colab_type": "code",
        "colab": {},
        "tags": []
      },
      "source": [
        "kazr_ge = '../data/radar/ka_cordoba/ge/'\n",
        "kazr_md = '../data/radar/ka_cordoba/md/'\n",
        "a1 = 'a1/'\n",
        "b1 = 'b1/'\n",
        "\n",
        "mira = '../data/radar/mira_campina/'"
      ],
      "execution_count": 2,
      "outputs": [
        {
          "output_type": "stream",
          "name": "stderr",
          "text": [
            "/home/cclopes/miniconda3/envs/amazon-storms-aerosols/lib/python3.8/site-packages/ipykernel/ipkernel.py:287: DeprecationWarning: `should_run_async` will not call `transform_cell` automatically in the future. Please pass the result to `transformed_cell` argument and any exception that happen during thetransform in `preprocessing_exc_tuple` in IPython 7.17 and above.\n  and should_run_async(code)\n"
          ]
        }
      ]
    },
    {
      "cell_type": "markdown",
      "metadata": {
        "id": "4B7eazmSoPgx",
        "colab_type": "text"
      },
      "source": [
        "### 2.2 Encontrando, selecionando e abrindo os arquivos\n",
        "\n"
      ]
    },
    {
      "cell_type": "code",
      "metadata": {
        "id": "EvQKs5jkoXtY",
        "colab_type": "code",
        "colab": {},
        "tags": []
      },
      "source": [
        "files = sorted(os.listdir(kazr_ge + a1))\n",
        "file_a1 = list(filter(lambda date: '20181205.1800' in date, files))[0]\n",
        "files = sorted(os.listdir(kazr_ge + b1))\n",
        "file_b1 = list(filter(lambda date: '20181205.1800' in date, files))[0]\n",
        "\n",
        "month_days = ['2020/07/temp/11/']\n",
        "hours = [\"15\"]\n",
        "ext = \"00.mmclx\"\n",
        "files_mira = []\n",
        "for day in month_days:\n",
        "    for hour in hours:\n",
        "        files_mira.append(glob(mira + day + '*' + hour + ext).pop(0))\n",
        "\n",
        "# kazr_a1 = pyart.io.read(kazr_ge + a1 + file_a1)\n",
        "# kazr_b1 = pyart.io.read(kazr_ge + b1 + file_b1)\n",
        "mira_b, mira_melt_hei = read_multi_mira(files_mira, for_quicklooks=False)"
      ],
      "execution_count": 4,
      "outputs": [
        {
          "output_type": "stream",
          "name": "stderr",
          "text": [
            "/home/cclopes/miniconda3/envs/amazon-storms-aerosols/lib/python3.8/site-packages/ipykernel/ipkernel.py:287: DeprecationWarning: `should_run_async` will not call `transform_cell` automatically in the future. Please pass the result to `transformed_cell` argument and any exception that happen during thetransform in `preprocessing_exc_tuple` in IPython 7.17 and above.\n  and should_run_async(code)\n"
          ]
        }
      ]
    },
    {
      "cell_type": "code",
      "execution_count": 5,
      "metadata": {},
      "outputs": [
        {
          "output_type": "stream",
          "name": "stderr",
          "text": [
            "/home/cclopes/miniconda3/envs/amazon-storms-aerosols/lib/python3.8/site-packages/ipykernel/ipkernel.py:287: DeprecationWarning: `should_run_async` will not call `transform_cell` automatically in the future. Please pass the result to `transformed_cell` argument and any exception that happen during thetransform in `preprocessing_exc_tuple` in IPython 7.17 and above.\n  and should_run_async(code)\n"
          ]
        },
        {
          "output_type": "execute_result",
          "data": {
            "text/plain": [
              "({'var': 'MeltHei',\n",
              "  'long_name': 'Melting Layer Height',\n",
              "  'units': 'm',\n",
              "  'yrange': array([    0, 14000], dtype=int16),\n",
              "  'data': masked_array(data=[1371.8848, 1371.8848, 1371.8848, 1371.8848, 1371.8848,\n",
              "                     1371.8848, 1371.8848, 1371.8848, 1371.8848, 1371.8848,\n",
              "                     1371.8848, 1371.8848, 1371.8848, 1371.8848, 1371.8848,\n",
              "                     1371.8848, 1371.8848, 1371.8848, 1371.8848, 1371.8848,\n",
              "                     1371.8848, 1371.8848, 1371.8848, 1371.8848, 1371.8848,\n",
              "                     1371.8848, 1371.8848, 1371.8848, 1371.8848, 1371.8848,\n",
              "                     1371.8848, 1371.8848, 1371.8848, 1371.8848, 1371.8848,\n",
              "                     1371.8848, 1371.8848, 1371.8848, 1371.8848, 1371.8848,\n",
              "                     1371.8848, 1371.8848, 1371.8848, 1371.8848, 1371.8848,\n",
              "                     1371.8848, 1371.8848, 1371.8848, 1371.8848, 1371.8848,\n",
              "                     1371.8848, 1371.8848, 1371.8848, 1371.8848, 1371.8848,\n",
              "                     1371.8848, 1371.8848, 1371.8848, 1371.8848, 1371.8848,\n",
              "                     1371.8848, 1371.8848, 1371.8848, 1371.8848, 1371.8848,\n",
              "                     1371.8848, 1371.8848, 1371.8848, 1371.8848, 1371.8848,\n",
              "                     1371.8848, 1371.8848, 1371.8848, 1371.8848, 1371.8848,\n",
              "                     1371.8848, 1371.8848, 1371.8848, 1371.8848, 1371.8848,\n",
              "                     1371.8848, 1371.8848, 1371.8848, 1371.8848, 1371.8848,\n",
              "                     1371.8848, 1371.8848, 1371.8848, 1371.8848, 1371.8848,\n",
              "                     1371.8848, 1371.8848, 1371.8848, 1371.8848, 1371.8848,\n",
              "                     1371.8848, 1371.8848, 1371.8848, 1371.8848, 1371.8848,\n",
              "                     1371.8848, 1371.8848, 1371.8848, 1371.8848, 1371.8848,\n",
              "                     1371.8848, 1371.8848, 1371.8848, 1371.8848, 1371.8848,\n",
              "                     1371.8848, 1371.8848, 1371.8848, 1371.8848, 1371.8848,\n",
              "                     1371.8848, 1371.8848, 1371.8848, 1371.8848, 1371.8848,\n",
              "                     1371.8848, 1371.8848, 1371.8848, 1371.8848, 1371.8848,\n",
              "                     1371.8848, 1371.8848, 1371.8848, 1371.8848, 1371.8848,\n",
              "                     1371.8848, 1371.8848, 1371.8848, 1371.8848, 1371.8848,\n",
              "                     1371.8848, 1371.8848, 1371.8848, 1371.8848, 1371.8848,\n",
              "                     1371.8848, 1371.8848, 1371.8848, 1371.8848, 1371.8848,\n",
              "                     1371.8848, 1371.8848, 1371.8848, 1371.8848, 1371.8848,\n",
              "                     1371.8848, 1371.8848, 1371.8848, 1371.8848, 1371.8848,\n",
              "                     1371.8848, 1371.8848, 1371.8848, 1371.8848, 1371.8848,\n",
              "                     1371.8848, 1371.8848, 1371.8848, 1371.8848, 1371.8848,\n",
              "                     1371.8848, 1371.8848, 1371.8848, 1371.8848, 1371.8848,\n",
              "                     1371.8848, 1371.8848, 1371.8848, 1371.8848, 1371.8848,\n",
              "                     1371.8848, 1371.8848, 1371.8848, 1371.8848, 1371.8848,\n",
              "                     1371.8848, 1371.8848, 1371.8848, 1371.8848, 1371.8848,\n",
              "                     1371.8848, 1371.8848, 1371.8848, 1371.8848, 1371.8848,\n",
              "                     1371.8848, 1371.8848, 1371.8848, 1371.8848, 1371.8848,\n",
              "                     1371.8848, 1371.8848, 1371.8848, 1371.8848, 1371.8848,\n",
              "                     1371.8848, 1371.8848, 1371.8848, 1371.8848, 1371.8848,\n",
              "                     1371.8848, 1371.8848, 1371.8848, 1371.8848, 1371.8848,\n",
              "                     1371.8848, 1371.8848, 1371.8848, 1371.8848, 1371.8848,\n",
              "                     1371.8848, 1371.8848, 1371.8848, 1371.8848, 1371.8848,\n",
              "                     1371.8848, 1371.8848, 1371.8848, 1371.8848, 1371.8848,\n",
              "                     1371.8848, 1371.8848, 1371.8848, 1371.8848, 1371.8848,\n",
              "                     1371.8848, 1371.8848, 1371.8848, 1371.8848, 1371.8848,\n",
              "                     1371.8848, 1371.8848, 1371.8848, 1371.8848, 1371.8848,\n",
              "                     1371.8848, 1371.8848, 1371.8848, 1371.8848, 1371.8848,\n",
              "                     1371.8848, 1371.8848, 1371.8848, 1371.8848, 1371.8848,\n",
              "                     1371.8848, 1371.8848, 1371.8848, 1371.8848, 1371.8848,\n",
              "                     1371.8848, 1371.8848, 1371.8848, 1371.8848, 1371.8848,\n",
              "                     1371.8848, 1371.8848, 1371.8848, 1371.8848, 1371.8848,\n",
              "                     1371.8848, 1371.8848, 1371.8848, 1371.8848, 1371.8848,\n",
              "                     1371.8848, 1371.8848, 1371.8848, 1371.8848, 1371.8848,\n",
              "                     1371.8848, 1371.8848, 1371.8848, 1371.8848, 1371.8848,\n",
              "                     1371.8848, 1371.8848, 1371.8848, 1371.8848, 1371.8848,\n",
              "                     1371.8848, 1371.8848, 1371.8848, 1371.8848, 1371.8848,\n",
              "                     1371.8848, 1371.8848, 1371.8848, 1371.8848, 1371.8848,\n",
              "                     1371.8848, 1371.8848, 1371.8848, 1371.8848, 1371.8848,\n",
              "                     1371.8848, 1371.8848, 1371.8848, 1371.8848, 1371.8848,\n",
              "                     1371.8848, 1371.8848, 1371.8848, 1371.8848, 1371.8848,\n",
              "                     1371.8848, 1371.8848, 1371.8848, 1371.8848, 1371.8848,\n",
              "                     1371.8848, 1371.8848, 1371.8848, 1371.8848, 1371.8848,\n",
              "                     1371.8848, 1371.8848, 1371.8848, 1371.8848, 1371.8848,\n",
              "                     1371.8848, 1371.8848, 1371.8848, 1371.8848, 1371.8848,\n",
              "                     1371.8848, 1371.8848, 1371.8848, 1371.8848, 1371.8848,\n",
              "                     1371.8848, 1371.8848, 1371.8848, 1371.8848, 1371.8848,\n",
              "                     1371.8848, 1371.8848, 1371.8848, 1371.8848, 1371.8848,\n",
              "                     1371.8848, 1371.8848, 1371.8848, 1371.8848, 1371.8848,\n",
              "                     1371.8848],\n",
              "               mask=False,\n",
              "         fill_value=1e+20,\n",
              "              dtype=float32)},\n",
              " {'var': 'MeltHeiDet',\n",
              "  'long_name': 'Melting Layer Height detected from LDR',\n",
              "  'units': 'm',\n",
              "  'yrange': array([    0, 14000], dtype=int16),\n",
              "  'data': masked_array(data=[-99999., -99999., -99999., -99999., -99999., -99999.,\n",
              "                     -99999., -99999., -99999., -99999., -99999., -99999.,\n",
              "                     -99999., -99999., -99999., -99999., -99999., -99999.,\n",
              "                     -99999., -99999., -99999., -99999., -99999., -99999.,\n",
              "                     -99999., -99999., -99999., -99999., -99999., -99999.,\n",
              "                     -99999., -99999., -99999., -99999., -99999., -99999.,\n",
              "                     -99999., -99999., -99999., -99999., -99999., -99999.,\n",
              "                     -99999., -99999., -99999., -99999., -99999., -99999.,\n",
              "                     -99999., -99999., -99999., -99999., -99999., -99999.,\n",
              "                     -99999., -99999., -99999., -99999., -99999., -99999.,\n",
              "                     -99999., -99999., -99999., -99999., -99999., -99999.,\n",
              "                     -99999., -99999., -99999., -99999., -99999., -99999.,\n",
              "                     -99999., -99999., -99999., -99999., -99999., -99999.,\n",
              "                     -99999., -99999., -99999., -99999., -99999., -99999.,\n",
              "                     -99999., -99999., -99999., -99999., -99999., -99999.,\n",
              "                     -99999., -99999., -99999., -99999., -99999., -99999.,\n",
              "                     -99999., -99999., -99999., -99999., -99999., -99999.,\n",
              "                     -99999., -99999., -99999., -99999., -99999., -99999.,\n",
              "                     -99999., -99999., -99999., -99999., -99999., -99999.,\n",
              "                     -99999., -99999., -99999., -99999., -99999., -99999.,\n",
              "                     -99999., -99999., -99999., -99999., -99999., -99999.,\n",
              "                     -99999., -99999., -99999., -99999., -99999., -99999.,\n",
              "                     -99999., -99999., -99999., -99999., -99999., -99999.,\n",
              "                     -99999., -99999., -99999., -99999., -99999., -99999.,\n",
              "                     -99999., -99999., -99999., -99999., -99999., -99999.,\n",
              "                     -99999., -99999., -99999., -99999., -99999., -99999.,\n",
              "                     -99999., -99999., -99999., -99999., -99999., -99999.,\n",
              "                     -99999., -99999., -99999., -99999., -99999., -99999.,\n",
              "                     -99999., -99999., -99999., -99999., -99999., -99999.,\n",
              "                     -99999., -99999., -99999., -99999., -99999., -99999.,\n",
              "                     -99999., -99999., -99999., -99999., -99999., -99999.,\n",
              "                     -99999., -99999., -99999., -99999., -99999., -99999.,\n",
              "                     -99999., -99999., -99999., -99999., -99999., -99999.,\n",
              "                     -99999., -99999., -99999., -99999., -99999., -99999.,\n",
              "                     -99999., -99999., -99999., -99999., -99999., -99999.,\n",
              "                     -99999., -99999., -99999., -99999., -99999., -99999.,\n",
              "                     -99999., -99999., -99999., -99999., -99999., -99999.,\n",
              "                     -99999., -99999., -99999., -99999., -99999., -99999.,\n",
              "                     -99999., -99999., -99999., -99999., -99999., -99999.,\n",
              "                     -99999., -99999., -99999., -99999., -99999., -99999.,\n",
              "                     -99999., -99999., -99999., -99999., -99999., -99999.,\n",
              "                     -99999., -99999., -99999., -99999., -99999., -99999.,\n",
              "                     -99999., -99999., -99999., -99999., -99999., -99999.,\n",
              "                     -99999., -99999., -99999., -99999., -99999., -99999.,\n",
              "                     -99999., -99999., -99999., -99999., -99999., -99999.,\n",
              "                     -99999., -99999., -99999., -99999., -99999., -99999.,\n",
              "                     -99999., -99999., -99999., -99999., -99999., -99999.,\n",
              "                     -99999., -99999., -99999., -99999., -99999., -99999.,\n",
              "                     -99999., -99999., -99999., -99999., -99999., -99999.,\n",
              "                     -99999., -99999., -99999., -99999., -99999., -99999.,\n",
              "                     -99999., -99999., -99999., -99999., -99999., -99999.,\n",
              "                     -99999., -99999., -99999., -99999., -99999., -99999.,\n",
              "                     -99999., -99999., -99999., -99999., -99999., -99999.,\n",
              "                     -99999., -99999., -99999., -99999., -99999., -99999.,\n",
              "                     -99999., -99999., -99999., -99999., -99999., -99999.,\n",
              "                     -99999., -99999., -99999., -99999., -99999., -99999.,\n",
              "                     -99999., -99999., -99999., -99999., -99999., -99999.,\n",
              "                     -99999., -99999., -99999., -99999., -99999., -99999.,\n",
              "                     -99999., -99999., -99999.],\n",
              "               mask=False,\n",
              "         fill_value=1e+20,\n",
              "              dtype=float32)},\n",
              " {'var': 'MeltHeiDB',\n",
              "  'long_name': 'Melting Layer Height from Data Base',\n",
              "  'units': 'm',\n",
              "  'yrange': array([    0, 14000], dtype=int16),\n",
              "  'data': masked_array(data=[1371.8848, 1371.8848, 1371.8848, 1371.8848, 1371.8848,\n",
              "                     1371.8848, 1371.8848, 1371.8848, 1371.8848, 1371.8848,\n",
              "                     1371.8848, 1371.8848, 1371.8848, 1371.8848, 1371.8848,\n",
              "                     1371.8848, 1371.8848, 1371.8848, 1371.8848, 1371.8848,\n",
              "                     1371.8848, 1371.8848, 1371.8848, 1371.8848, 1371.8848,\n",
              "                     1371.8848, 1371.8848, 1371.8848, 1371.8848, 1371.8848,\n",
              "                     1371.8848, 1371.8848, 1371.8848, 1371.8848, 1371.8848,\n",
              "                     1371.8848, 1371.8848, 1371.8848, 1371.8848, 1371.8848,\n",
              "                     1371.8848, 1371.8848, 1371.8848, 1371.8848, 1371.8848,\n",
              "                     1371.8848, 1371.8848, 1371.8848, 1371.8848, 1371.8848,\n",
              "                     1371.8848, 1371.8848, 1371.8848, 1371.8848, 1371.8848,\n",
              "                     1371.8848, 1371.8848, 1371.8848, 1371.8848, 1371.8848,\n",
              "                     1371.8848, 1371.8848, 1371.8848, 1371.8848, 1371.8848,\n",
              "                     1371.8848, 1371.8848, 1371.8848, 1371.8848, 1371.8848,\n",
              "                     1371.8848, 1371.8848, 1371.8848, 1371.8848, 1371.8848,\n",
              "                     1371.8848, 1371.8848, 1371.8848, 1371.8848, 1371.8848,\n",
              "                     1371.8848, 1371.8848, 1371.8848, 1371.8848, 1371.8848,\n",
              "                     1371.8848, 1371.8848, 1371.8848, 1371.8848, 1371.8848,\n",
              "                     1371.8848, 1371.8848, 1371.8848, 1371.8848, 1371.8848,\n",
              "                     1371.8848, 1371.8848, 1371.8848, 1371.8848, 1371.8848,\n",
              "                     1371.8848, 1371.8848, 1371.8848, 1371.8848, 1371.8848,\n",
              "                     1371.8848, 1371.8848, 1371.8848, 1371.8848, 1371.8848,\n",
              "                     1371.8848, 1371.8848, 1371.8848, 1371.8848, 1371.8848,\n",
              "                     1371.8848, 1371.8848, 1371.8848, 1371.8848, 1371.8848,\n",
              "                     1371.8848, 1371.8848, 1371.8848, 1371.8848, 1371.8848,\n",
              "                     1371.8848, 1371.8848, 1371.8848, 1371.8848, 1371.8848,\n",
              "                     1371.8848, 1371.8848, 1371.8848, 1371.8848, 1371.8848,\n",
              "                     1371.8848, 1371.8848, 1371.8848, 1371.8848, 1371.8848,\n",
              "                     1371.8848, 1371.8848, 1371.8848, 1371.8848, 1371.8848,\n",
              "                     1371.8848, 1371.8848, 1371.8848, 1371.8848, 1371.8848,\n",
              "                     1371.8848, 1371.8848, 1371.8848, 1371.8848, 1371.8848,\n",
              "                     1371.8848, 1371.8848, 1371.8848, 1371.8848, 1371.8848,\n",
              "                     1371.8848, 1371.8848, 1371.8848, 1371.8848, 1371.8848,\n",
              "                     1371.8848, 1371.8848, 1371.8848, 1371.8848, 1371.8848,\n",
              "                     1371.8848, 1371.8848, 1371.8848, 1371.8848, 1371.8848,\n",
              "                     1371.8848, 1371.8848, 1371.8848, 1371.8848, 1371.8848,\n",
              "                     1371.8848, 1371.8848, 1371.8848, 1371.8848, 1371.8848,\n",
              "                     1371.8848, 1371.8848, 1371.8848, 1371.8848, 1371.8848,\n",
              "                     1371.8848, 1371.8848, 1371.8848, 1371.8848, 1371.8848,\n",
              "                     1371.8848, 1371.8848, 1371.8848, 1371.8848, 1371.8848,\n",
              "                     1371.8848, 1371.8848, 1371.8848, 1371.8848, 1371.8848,\n",
              "                     1371.8848, 1371.8848, 1371.8848, 1371.8848, 1371.8848,\n",
              "                     1371.8848, 1371.8848, 1371.8848, 1371.8848, 1371.8848,\n",
              "                     1371.8848, 1371.8848, 1371.8848, 1371.8848, 1371.8848,\n",
              "                     1371.8848, 1371.8848, 1371.8848, 1371.8848, 1371.8848,\n",
              "                     1371.8848, 1371.8848, 1371.8848, 1371.8848, 1371.8848,\n",
              "                     1371.8848, 1371.8848, 1371.8848, 1371.8848, 1371.8848,\n",
              "                     1371.8848, 1371.8848, 1371.8848, 1371.8848, 1371.8848,\n",
              "                     1371.8848, 1371.8848, 1371.8848, 1371.8848, 1371.8848,\n",
              "                     1371.8848, 1371.8848, 1371.8848, 1371.8848, 1371.8848,\n",
              "                     1371.8848, 1371.8848, 1371.8848, 1371.8848, 1371.8848,\n",
              "                     1371.8848, 1371.8848, 1371.8848, 1371.8848, 1371.8848,\n",
              "                     1371.8848, 1371.8848, 1371.8848, 1371.8848, 1371.8848,\n",
              "                     1371.8848, 1371.8848, 1371.8848, 1371.8848, 1371.8848,\n",
              "                     1371.8848, 1371.8848, 1371.8848, 1371.8848, 1371.8848,\n",
              "                     1371.8848, 1371.8848, 1371.8848, 1371.8848, 1371.8848,\n",
              "                     1371.8848, 1371.8848, 1371.8848, 1371.8848, 1371.8848,\n",
              "                     1371.8848, 1371.8848, 1371.8848, 1371.8848, 1371.8848,\n",
              "                     1371.8848, 1371.8848, 1371.8848, 1371.8848, 1371.8848,\n",
              "                     1371.8848, 1371.8848, 1371.8848, 1371.8848, 1371.8848,\n",
              "                     1371.8848, 1371.8848, 1371.8848, 1371.8848, 1371.8848,\n",
              "                     1371.8848, 1371.8848, 1371.8848, 1371.8848, 1371.8848,\n",
              "                     1371.8848, 1371.8848, 1371.8848, 1371.8848, 1371.8848,\n",
              "                     1371.8848, 1371.8848, 1371.8848, 1371.8848, 1371.8848,\n",
              "                     1371.8848, 1371.8848, 1371.8848, 1371.8848, 1371.8848,\n",
              "                     1371.8848, 1371.8848, 1371.8848, 1371.8848, 1371.8848,\n",
              "                     1371.8848, 1371.8848, 1371.8848, 1371.8848, 1371.8848,\n",
              "                     1371.8848, 1371.8848, 1371.8848, 1371.8848, 1371.8848,\n",
              "                     1371.8848, 1371.8848, 1371.8848, 1371.8848, 1371.8848,\n",
              "                     1371.8848, 1371.8848, 1371.8848, 1371.8848, 1371.8848,\n",
              "                     1371.8848],\n",
              "               mask=False,\n",
              "         fill_value=1e+20,\n",
              "              dtype=float32)})"
            ]
          },
          "metadata": {},
          "execution_count": 5
        }
      ],
      "source": [
        "mira_melt_hei"
      ]
    },
    {
      "cell_type": "code",
      "metadata": {
        "id": "p2BcrOMYo8LH",
        "colab_type": "code",
        "colab": {
          "base_uri": "https://localhost:8080/",
          "height": 54
        },
        "outputId": "6a3d277d-50ca-49f2-dfb2-236234c359bc",
        "tags": []
      },
      "source": [
        "kazr_a1.fields.keys()"
      ],
      "execution_count": null,
      "outputs": []
    },
    {
      "cell_type": "code",
      "metadata": {
        "id": "SYwOyAFeo9AA",
        "colab_type": "code",
        "colab": {
          "base_uri": "https://localhost:8080/",
          "height": 54
        },
        "outputId": "c58ace52-9cf3-4355-b8af-ea5cc13d9919",
        "tags": []
      },
      "source": [
        "kazr_b1.fields.keys()"
      ],
      "execution_count": null,
      "outputs": []
    },
    {
      "cell_type": "code",
      "metadata": {
        "id": "GxJwChUMB2v7",
        "colab_type": "code",
        "colab": {
          "base_uri": "https://localhost:8080/",
          "height": 54
        },
        "outputId": "39b00e48-1d73-458b-e7bf-b7eaaa98c8f2",
        "tags": []
      },
      "source": [
        "mira_b.fields.keys()"
      ],
      "execution_count": null,
      "outputs": []
    },
    {
      "cell_type": "code",
      "metadata": {
        "id": "4Hg0JG11wcUY",
        "colab_type": "code",
        "colab": {},
        "tags": []
      },
      "source": [
        "mira_b.fields['SNRg']['data'] = 10 * np.log10(mira_b.fields['SNRg']['data'])\n",
        "mira_b.fields['SNR']['data'] = 10 * np.log10(mira_b.fields['SNR']['data'])\n",
        "mira_b.fields['Ze']['data'] = 10 * np.log10(mira_b.fields['Ze']['data'])\n",
        "mira_b.fields['Zg']['data'] = 10 * np.log10(mira_b.fields['Zg']['data'])\n"
      ],
      "execution_count": null,
      "outputs": []
    },
    {
      "cell_type": "code",
      "execution_count": null,
      "metadata": {
        "tags": []
      },
      "outputs": [],
      "source": [
        "x = np.array(np.ma.MaskedArray.tolist(mira_b.fields['Zg']['data']))\n",
        "np.nanmin(x[x != np.inf])"
      ]
    },
    {
      "cell_type": "code",
      "execution_count": 21,
      "metadata": {},
      "outputs": [
        {
          "output_type": "stream",
          "name": "stderr",
          "text": [
            "/home/cclopes/miniconda3/envs/amazon-storms-aerosols/lib/python3.8/site-packages/ipykernel/ipkernel.py:287: DeprecationWarning: `should_run_async` will not call `transform_cell` automatically in the future. Please pass the result to `transformed_cell` argument and any exception that happen during thetransform in `preprocessing_exc_tuple` in IPython 7.17 and above.\n  and should_run_async(code)\n"
          ]
        },
        {
          "output_type": "execute_result",
          "data": {
            "text/plain": [
              "inf"
            ]
          },
          "metadata": {},
          "execution_count": 21
        }
      ],
      "source": [
        "np.nanmean(np.array(np.ma.MaskedArray.tolist(mira_b.fields['Zg']['data'])))"
      ]
    },
    {
      "cell_type": "code",
      "metadata": {
        "id": "dD0q90gK9hyB",
        "colab_type": "code",
        "colab": {
          "base_uri": "https://localhost:8080/",
          "height": 231
        },
        "outputId": "a025eb0b-33f7-498e-ed69-1c29543353da",
        "tags": []
      },
      "source": [
        "display = pyart.graph.RadarDisplay(mira_b)\n",
        "fig = plt.figure(figsize=(9, 5))\n",
        "display.plot_vpt('Ze', time_axis_flag=True)"
      ],
      "execution_count": null,
      "outputs": []
    },
    {
      "cell_type": "code",
      "execution_count": 24,
      "metadata": {},
      "outputs": [
        {
          "output_type": "stream",
          "name": "stderr",
          "text": [
            "/home/cclopes/miniconda3/envs/amazon-storms-aerosols/lib/python3.8/site-packages/ipykernel/ipkernel.py:287: DeprecationWarning: `should_run_async` will not call `transform_cell` automatically in the future. Please pass the result to `transformed_cell` argument and any exception that happen during thetransform in `preprocessing_exc_tuple` in IPython 7.17 and above.\n  and should_run_async(code)\n"
          ]
        },
        {
          "output_type": "execute_result",
          "data": {
            "text/plain": [
              "-2.9143473652413947"
            ]
          },
          "metadata": {},
          "execution_count": 24
        }
      ],
      "source": [
        "np.ma.masked_invalid(mira_b.fields['Ze']['data']).mean()"
      ]
    },
    {
      "cell_type": "code",
      "execution_count": 18,
      "metadata": {},
      "outputs": [
        {
          "output_type": "stream",
          "name": "stderr",
          "text": [
            "/home/cclopes/miniconda3/envs/amazon-storms-aerosols/lib/python3.8/site-packages/ipykernel/ipkernel.py:287: DeprecationWarning: `should_run_async` will not call `transform_cell` automatically in the future. Please pass the result to `transformed_cell` argument and any exception that happen during thetransform in `preprocessing_exc_tuple` in IPython 7.17 and above.\n  and should_run_async(code)\n"
          ]
        },
        {
          "output_type": "execute_result",
          "data": {
            "text/plain": [
              "masked_array(\n",
              "  data=[[nan, nan, nan, ..., nan, nan, nan],\n",
              "        [nan, nan, nan, ..., nan, nan, nan],\n",
              "        [nan, nan, nan, ..., nan, nan, nan],\n",
              "        ...,\n",
              "        [nan, nan, nan, ..., nan, nan, nan],\n",
              "        [nan, nan, nan, ..., nan, nan, nan],\n",
              "        [nan, nan, nan, ..., nan, nan, nan]],\n",
              "  mask=[[False, False, False, ..., False, False, False],\n",
              "        [False, False, False, ..., False, False, False],\n",
              "        [False, False, False, ..., False, False, False],\n",
              "        ...,\n",
              "        [False, False, False, ..., False, False, False],\n",
              "        [False, False, False, ..., False, False, False],\n",
              "        [False, False, False, ..., False, False, False]],\n",
              "  fill_value=-9999.0)"
            ]
          },
          "metadata": {},
          "execution_count": 18
        }
      ],
      "source": [
        "mira_b.fields['Ze']['data']"
      ]
    },
    {
      "cell_type": "code",
      "execution_count": 16,
      "metadata": {},
      "outputs": [
        {
          "output_type": "stream",
          "name": "stderr",
          "text": [
            "/home/cclopes/miniconda3/envs/amazon-storms-aerosols/lib/python3.8/site-packages/ipykernel/ipkernel.py:287: DeprecationWarning: `should_run_async` will not call `transform_cell` automatically in the future. Please pass the result to `transformed_cell` argument and any exception that happen during thetransform in `preprocessing_exc_tuple` in IPython 7.17 and above.\n  and should_run_async(code)\n"
          ]
        },
        {
          "output_type": "execute_result",
          "data": {
            "text/plain": [
              "(24, 573)"
            ]
          },
          "metadata": {},
          "execution_count": 16
        }
      ],
      "source": [
        "reduced = block_reduce(mira_b.fields['SNRg']['data'], \n",
        "    block_size=(30, 1), func=np.nanmean, cval=np.nanmean(mira_b.fields['Ze']['data'].transpose()[-1]))\n",
        "reduced.shape"
      ]
    },
    {
      "cell_type": "code",
      "execution_count": null,
      "metadata": {},
      "outputs": [],
      "source": [
        "reduced"
      ]
    },
    {
      "cell_type": "code",
      "execution_count": null,
      "metadata": {},
      "outputs": [],
      "source": [
        "vec = np.cumsum(x.transpose(), 1)\n",
        "vec = (vec[30:,] - vec[:-30,])/30\n",
        "vec.transpose()[::30,:].shape"
      ]
    },
    {
      "cell_type": "code",
      "execution_count": null,
      "metadata": {},
      "outputs": [],
      "source": [
        "mira_b.fields['Ze']['data'].shape"
      ]
    },
    {
      "cell_type": "code",
      "execution_count": null,
      "metadata": {},
      "outputs": [],
      "source": [
        "pyart.util.datetimes_from_radar(mira_b)"
      ]
    },
    {
      "cell_type": "code",
      "execution_count": null,
      "metadata": {},
      "outputs": [],
      "source": [
        "mira_b.time['data'].shape"
      ]
    },
    {
      "cell_type": "code",
      "execution_count": null,
      "metadata": {},
      "outputs": [],
      "source": [
        "mira_b.range['data'].shape[0]"
      ]
    },
    {
      "source": [],
      "cell_type": "markdown",
      "metadata": {}
    }
  ]
}