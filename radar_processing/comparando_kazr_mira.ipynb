{
  "nbformat": 4,
  "nbformat_minor": 0,
  "metadata": {
    "colab": {
      "name": "comparando_kazr_mira_colab.ipynb",
      "provenance": [],
      "collapsed_sections": []
    },
    "kernelspec": {
      "name": "python3",
      "display_name": "Python 3"
    }
  },
  "cells": [
    {
      "cell_type": "markdown",
      "metadata": {
        "id": "BwtVL15Wna-s",
        "colab_type": "text"
      },
      "source": [
        "## 1. Importando os pacotes necessários\n",
        "\n",
        "O Py-ART consegue ler tanto os arquivos a1 quanto b1"
      ]
    },
    {
      "cell_type": "code",
      "metadata": {
        "id": "1fknhl17xE5j",
        "colab_type": "code",
        "colab": {},
        "tags": []
      },
      "source": [
        "import pyart\n",
        "import matplotlib.pyplot as plt\n",
        "import numpy as np\n",
        "import os\n",
        "from glob import glob\n",
        "\n",
        "from read_mira_radar import read_multi_mira"
      ],
      "execution_count": 1,
      "outputs": [
        {
          "output_type": "stream",
          "name": "stdout",
          "text": [
            "\n## You are using the Python ARM Radar Toolkit (Py-ART), an open source\n## library for working with weather radar data. Py-ART is partly\n## supported by the U.S. Department of Energy as part of the Atmospheric\n## Radiation Measurement (ARM) Climate Research Facility, an Office of\n## Science user facility.\n##\n## If you use this software to prepare a publication, please cite:\n##\n##     JJ Helmus and SM Collis, JORS 2016, doi: 10.5334/jors.119\n\n"
          ]
        }
      ]
    },
    {
      "cell_type": "markdown",
      "metadata": {
        "id": "5Q3EREsSnrB8",
        "colab_type": "text"
      },
      "source": [
        "## 2. Abrindo os arquivos\n",
        "\n",
        "### 2.1 Definindo o caminho dos arquivos"
      ]
    },
    {
      "cell_type": "code",
      "metadata": {
        "id": "OxteHUG-trvC",
        "colab_type": "code",
        "colab": {},
        "tags": []
      },
      "source": [
        "kazr_ge = '../data/radar/ka_cordoba/ge/'\n",
        "kazr_md = '../data/radar/ka_cordoba/md/'\n",
        "a1 = 'a1/'\n",
        "b1 = 'b1/'\n",
        "\n",
        "mira = '../data/radar/mira_campina/'"
      ],
      "execution_count": 2,
      "outputs": [
        {
          "output_type": "stream",
          "name": "stderr",
          "text": [
            "/home/cclopes/miniconda3/envs/amazon-storms-aerosols/lib/python3.8/site-packages/ipykernel/ipkernel.py:287: DeprecationWarning: `should_run_async` will not call `transform_cell` automatically in the future. Please pass the result to `transformed_cell` argument and any exception that happen during thetransform in `preprocessing_exc_tuple` in IPython 7.17 and above.\n  and should_run_async(code)\n"
          ]
        }
      ]
    },
    {
      "cell_type": "markdown",
      "metadata": {
        "id": "4B7eazmSoPgx",
        "colab_type": "text"
      },
      "source": [
        "### 2.2 Encontrando, selecionando e abrindo os arquivos\n",
        "\n"
      ]
    },
    {
      "cell_type": "code",
      "metadata": {
        "id": "EvQKs5jkoXtY",
        "colab_type": "code",
        "colab": {},
        "tags": []
      },
      "source": [
        "files = sorted(os.listdir(kazr_ge + a1))\n",
        "file_a1 = list(filter(lambda date: '20181205.1800' in date, files))[0]\n",
        "files = sorted(os.listdir(kazr_ge + b1))\n",
        "file_b1 = list(filter(lambda date: '20181205.1800' in date, files))[0]\n",
        "\n",
        "month_days = ['03/06/']\n",
        "hours = [\"00\", \"01\", \"02\"]\n",
        "ext = \"00.mmclx\"\n",
        "files_mira = []\n",
        "for day in month_days:\n",
        "    for hour in hours:\n",
        "        files_mira.append(glob(mira + day + '*' + hour + ext).pop(0))\n",
        "\n",
        "# kazr_a1 = pyart.io.read(kazr_ge + a1 + file_a1)\n",
        "# kazr_b1 = pyart.io.read(kazr_ge + b1 + file_b1)\n",
        "mira_b, mira_melt_hei = read_multi_mira(files_mira)"
      ],
      "execution_count": 3,
      "outputs": [
        {
          "output_type": "stream",
          "name": "stderr",
          "text": [
            "/home/cclopes/miniconda3/envs/amazon-storms-aerosols/lib/python3.8/site-packages/ipykernel/ipkernel.py:287: DeprecationWarning: `should_run_async` will not call `transform_cell` automatically in the future. Please pass the result to `transformed_cell` argument and any exception that happen during thetransform in `preprocessing_exc_tuple` in IPython 7.17 and above.\n  and should_run_async(code)\n"
          ]
        }
      ]
    },
    {
      "cell_type": "code",
      "execution_count": 4,
      "metadata": {},
      "outputs": [
        {
          "output_type": "stream",
          "name": "stderr",
          "text": [
            "/home/cclopes/miniconda3/envs/amazon-storms-aerosols/lib/python3.8/site-packages/ipykernel/ipkernel.py:287: DeprecationWarning: `should_run_async` will not call `transform_cell` automatically in the future. Please pass the result to `transformed_cell` argument and any exception that happen during thetransform in `preprocessing_exc_tuple` in IPython 7.17 and above.\n  and should_run_async(code)\n"
          ]
        },
        {
          "output_type": "execute_result",
          "data": {
            "text/plain": [
              "({'var': 'MeltHei',\n",
              "  'long_name': 'Melting Layer Height',\n",
              "  'units': 'm',\n",
              "  'yrange': array([    0, 14000], dtype=int16),\n",
              "  'data': masked_array(data=[1371.8848, 1371.8848, 1371.8848, ..., 1371.8848,\n",
              "                     1371.8848, 1371.8848],\n",
              "               mask=False,\n",
              "         fill_value=1e+20,\n",
              "              dtype=float32)},\n",
              " {'var': 'MeltHeiDet',\n",
              "  'long_name': 'Melting Layer Height detcted from LDR',\n",
              "  'units': 'm',\n",
              "  'yrange': array([    0, 14000], dtype=int16),\n",
              "  'data': masked_array(data=[-99999., -99999., -99999., ..., -99999., -99999.,\n",
              "                     -99999.],\n",
              "               mask=False,\n",
              "         fill_value=1e+20,\n",
              "              dtype=float32)},\n",
              " {'var': 'MeltHeiDB',\n",
              "  'long_name': 'Melting Layer Height from Data Base',\n",
              "  'units': 'm',\n",
              "  'yrange': array([    0, 14000], dtype=int16),\n",
              "  'data': masked_array(data=[1371.8848, 1371.8848, 1371.8848, ..., 1371.8848,\n",
              "                     1371.8848, 1371.8848],\n",
              "               mask=False,\n",
              "         fill_value=1e+20,\n",
              "              dtype=float32)})"
            ]
          },
          "metadata": {},
          "execution_count": 4
        }
      ],
      "source": [
        "mira_melt_hei"
      ]
    },
    {
      "cell_type": "code",
      "metadata": {
        "id": "p2BcrOMYo8LH",
        "colab_type": "code",
        "colab": {
          "base_uri": "https://localhost:8080/",
          "height": 54
        },
        "outputId": "6a3d277d-50ca-49f2-dfb2-236234c359bc",
        "tags": []
      },
      "source": [
        "kazr_a1.fields.keys()"
      ],
      "execution_count": null,
      "outputs": []
    },
    {
      "cell_type": "code",
      "metadata": {
        "id": "SYwOyAFeo9AA",
        "colab_type": "code",
        "colab": {
          "base_uri": "https://localhost:8080/",
          "height": 54
        },
        "outputId": "c58ace52-9cf3-4355-b8af-ea5cc13d9919",
        "tags": []
      },
      "source": [
        "kazr_b1.fields.keys()"
      ],
      "execution_count": null,
      "outputs": []
    },
    {
      "cell_type": "code",
      "metadata": {
        "id": "GxJwChUMB2v7",
        "colab_type": "code",
        "colab": {
          "base_uri": "https://localhost:8080/",
          "height": 54
        },
        "outputId": "39b00e48-1d73-458b-e7bf-b7eaaa98c8f2",
        "tags": []
      },
      "source": [
        "mira_b.fields.keys()"
      ],
      "execution_count": null,
      "outputs": []
    },
    {
      "cell_type": "code",
      "metadata": {
        "id": "4Hg0JG11wcUY",
        "colab_type": "code",
        "colab": {},
        "tags": []
      },
      "source": [
        "mira_b.fields['SNRg']['data'] = 10 * np.log10(mira_b.fields['SNRg']['data'])\n",
        "mira_b.fields['SNR']['data'] = 10 * np.log10(mira_b.fields['SNR']['data'])\n",
        "mira_b.fields['Ze']['data'] = 10 * np.log10(mira_b.fields['Ze']['data'])\n",
        "mira_b.fields['Zg']['data'] = 10 * np.log10(mira_b.fields['Zg']['data'])\n"
      ],
      "execution_count": 5,
      "outputs": [
        {
          "output_type": "stream",
          "name": "stderr",
          "text": [
            "/home/cclopes/miniconda3/envs/amazon-storms-aerosols/lib/python3.8/site-packages/ipykernel/ipkernel.py:287: DeprecationWarning: `should_run_async` will not call `transform_cell` automatically in the future. Please pass the result to `transformed_cell` argument and any exception that happen during thetransform in `preprocessing_exc_tuple` in IPython 7.17 and above.\n  and should_run_async(code)\n"
          ]
        }
      ]
    },
    {
      "cell_type": "code",
      "execution_count": null,
      "metadata": {
        "tags": []
      },
      "outputs": [],
      "source": [
        "x = np.array(np.ma.MaskedArray.tolist(mira_b.fields['Zg']['data']))\n",
        "np.nanmin(x[x != np.inf])"
      ]
    },
    {
      "cell_type": "code",
      "metadata": {
        "id": "dD0q90gK9hyB",
        "colab_type": "code",
        "colab": {
          "base_uri": "https://localhost:8080/",
          "height": 231
        },
        "outputId": "a025eb0b-33f7-498e-ed69-1c29543353da",
        "tags": []
      },
      "source": [
        "display = pyart.graph.RadarDisplay(mira_b)\n",
        "fig = plt.figure(figsize=(9, 5))\n",
        "display.plot_vpt('Ze', time_axis_flag=True)"
      ],
      "execution_count": 6,
      "outputs": [
        {
          "output_type": "stream",
          "name": "stderr",
          "text": [
            "/home/cclopes/miniconda3/envs/amazon-storms-aerosols/lib/python3.8/site-packages/ipykernel/ipkernel.py:287: DeprecationWarning: `should_run_async` will not call `transform_cell` automatically in the future. Please pass the result to `transformed_cell` argument and any exception that happen during thetransform in `preprocessing_exc_tuple` in IPython 7.17 and above.\n  and should_run_async(code)\n"
          ]
        },
        {
          "output_type": "error",
          "ename": "ValueError",
          "evalue": "'pyart_x' is not a valid value for name; supported values are 'Accent', 'Accent_r', 'Blues', 'Blues_r', 'BrBG', 'BrBG_r', 'BuGn', 'BuGn_r', 'BuPu', 'BuPu_r', 'CMRmap', 'CMRmap_r', 'Dark2', 'Dark2_r', 'GnBu', 'GnBu_r', 'Greens', 'Greens_r', 'Greys', 'Greys_r', 'OrRd', 'OrRd_r', 'Oranges', 'Oranges_r', 'PRGn', 'PRGn_r', 'Paired', 'Paired_r', 'Pastel1', 'Pastel1_r', 'Pastel2', 'Pastel2_r', 'PiYG', 'PiYG_r', 'PuBu', 'PuBuGn', 'PuBuGn_r', 'PuBu_r', 'PuOr', 'PuOr_r', 'PuRd', 'PuRd_r', 'Purples', 'Purples_r', 'RdBu', 'RdBu_r', 'RdGy', 'RdGy_r', 'RdPu', 'RdPu_r', 'RdYlBu', 'RdYlBu_r', 'RdYlGn', 'RdYlGn_r', 'Reds', 'Reds_r', 'Set1', 'Set1_r', 'Set2', 'Set2_r', 'Set3', 'Set3_r', 'Spectral', 'Spectral_r', 'Wistia', 'Wistia_r', 'YlGn', 'YlGnBu', 'YlGnBu_r', 'YlGn_r', 'YlOrBr', 'YlOrBr_r', 'YlOrRd', 'YlOrRd_r', 'afmhot', 'afmhot_r', 'autumn', 'autumn_r', 'binary', 'binary_r', 'bone', 'bone_r', 'brg', 'brg_r', 'bwr', 'bwr_r', 'cividis', 'cividis_r', 'cool', 'cool_r', 'coolwarm', 'coolwarm_r', 'copper', 'copper_r', 'cubehelix', 'cubehelix_r', 'flag', 'flag_r', 'gist_earth', 'gist_earth_r', 'gist_gray', 'gist_gray_r', 'gist_heat', 'gist_heat_r', 'gist_ncar', 'gist_ncar_r', 'gist_rainbow', 'gist_rainbow_r', 'gist_stern', 'gist_stern_r', 'gist_yarg', 'gist_yarg_r', 'gnuplot', 'gnuplot2', 'gnuplot2_r', 'gnuplot_r', 'gray', 'gray_r', 'hot', 'hot_r', 'hsv', 'hsv_r', 'inferno', 'inferno_r', 'jet', 'jet_r', 'magma', 'magma_r', 'nipy_spectral', 'nipy_spectral_r', 'ocean', 'ocean_r', 'pink', 'pink_r', 'plasma', 'plasma_r', 'prism', 'prism_r', 'pyart_BlueBrown10', 'pyart_BlueBrown10_r', 'pyart_BlueBrown11', 'pyart_BlueBrown11_r', 'pyart_BrBu10', 'pyart_BrBu10_r', 'pyart_BrBu12', 'pyart_BrBu12_r', 'pyart_Bu10', 'pyart_Bu10_r', 'pyart_Bu7', 'pyart_Bu7_r', 'pyart_BuDOr12', 'pyart_BuDOr12_r', 'pyart_BuDOr18', 'pyart_BuDOr18_r', 'pyart_BuDRd12', 'pyart_BuDRd12_r', 'pyart_BuDRd18', 'pyart_BuDRd18_r', 'pyart_BuGr14', 'pyart_BuGr14_r', 'pyart_BuGy8', 'pyart_BuGy8_r', 'pyart_BuOr10', 'pyart_BuOr10_r', 'pyart_BuOr12', 'pyart_BuOr12_r', 'pyart_BuOr8', 'pyart_BuOr8_r', 'pyart_BuOrR14', 'pyart_BuOrR14_r', 'pyart_Carbone11', 'pyart_Carbone11_r', 'pyart_Carbone17', 'pyart_Carbone17_r', 'pyart_Carbone42', 'pyart_Carbone42_r', 'pyart_Cat12', 'pyart_Cat12_r', 'pyart_EWilson17', 'pyart_EWilson17_r', 'pyart_GrMg16', 'pyart_GrMg16_r', 'pyart_Gray5', 'pyart_Gray5_r', 'pyart_Gray9', 'pyart_Gray9_r', 'pyart_HomeyerRainbow', 'pyart_HomeyerRainbow_r', 'pyart_LangRainbow12', 'pyart_LangRainbow12_r', 'pyart_NWSRef', 'pyart_NWSRef_r', 'pyart_NWSVel', 'pyart_NWSVel_r', 'pyart_NWS_SPW', 'pyart_NWS_SPW_r', 'pyart_PD17', 'pyart_PD17_r', 'pyart_RRate11', 'pyart_RRate11_r', 'pyart_RdYlBu11b', 'pyart_RdYlBu11b_r', 'pyart_RefDiff', 'pyart_RefDiff_r', 'pyart_SCook18', 'pyart_SCook18_r', 'pyart_StepSeq25', 'pyart_StepSeq25_r', 'pyart_SymGray12', 'pyart_SymGray12_r', 'pyart_Theodore16', 'pyart_Theodore16_r', 'pyart_Wild25', 'pyart_Wild25_r', 'pyart_balance', 'pyart_balance_r', 'rainbow', 'rainbow_r', 'seismic', 'seismic_r', 'spring', 'spring_r', 'summer', 'summer_r', 'tab10', 'tab10_r', 'tab20', 'tab20_r', 'tab20b', 'tab20b_r', 'tab20c', 'tab20c_r', 'terrain', 'terrain_r', 'turbo', 'turbo_r', 'twilight', 'twilight_r', 'twilight_shifted', 'twilight_shifted_r', 'viridis', 'viridis_r', 'winter', 'winter_r'",
          "traceback": [
            "\u001b[0;31m---------------------------------------------------------------------------\u001b[0m",
            "\u001b[0;31mValueError\u001b[0m                                Traceback (most recent call last)",
            "\u001b[0;32m<ipython-input-6-0c18e034d87f>\u001b[0m in \u001b[0;36m<module>\u001b[0;34m\u001b[0m\n\u001b[1;32m      1\u001b[0m \u001b[0mdisplay\u001b[0m \u001b[0;34m=\u001b[0m \u001b[0mpyart\u001b[0m\u001b[0;34m.\u001b[0m\u001b[0mgraph\u001b[0m\u001b[0;34m.\u001b[0m\u001b[0mRadarDisplay\u001b[0m\u001b[0;34m(\u001b[0m\u001b[0mmira_b\u001b[0m\u001b[0;34m)\u001b[0m\u001b[0;34m\u001b[0m\u001b[0;34m\u001b[0m\u001b[0m\n\u001b[1;32m      2\u001b[0m \u001b[0mfig\u001b[0m \u001b[0;34m=\u001b[0m \u001b[0mplt\u001b[0m\u001b[0;34m.\u001b[0m\u001b[0mfigure\u001b[0m\u001b[0;34m(\u001b[0m\u001b[0mfigsize\u001b[0m\u001b[0;34m=\u001b[0m\u001b[0;34m(\u001b[0m\u001b[0;36m9\u001b[0m\u001b[0;34m,\u001b[0m \u001b[0;36m5\u001b[0m\u001b[0;34m)\u001b[0m\u001b[0;34m)\u001b[0m\u001b[0;34m\u001b[0m\u001b[0;34m\u001b[0m\u001b[0m\n\u001b[0;32m----> 3\u001b[0;31m \u001b[0mdisplay\u001b[0m\u001b[0;34m.\u001b[0m\u001b[0mplot_vpt\u001b[0m\u001b[0;34m(\u001b[0m\u001b[0;34m'Ze'\u001b[0m\u001b[0;34m,\u001b[0m \u001b[0mcmap\u001b[0m\u001b[0;34m=\u001b[0m\u001b[0;34m'pyart_x'\u001b[0m\u001b[0;34m,\u001b[0m \u001b[0mtime_axis_flag\u001b[0m\u001b[0;34m=\u001b[0m\u001b[0;32mTrue\u001b[0m\u001b[0;34m)\u001b[0m\u001b[0;34m\u001b[0m\u001b[0;34m\u001b[0m\u001b[0m\n\u001b[0m",
            "\u001b[0;32m~/miniconda3/envs/amazon-storms-aerosols/lib/python3.8/site-packages/pyart/graph/radardisplay.py\u001b[0m in \u001b[0;36mplot_vpt\u001b[0;34m(self, field, mask_tuple, vmin, vmax, norm, cmap, mask_outside, title, title_flag, axislabels, axislabels_flag, colorbar_flag, colorbar_label, colorbar_orient, edges, gatefilter, filter_transitions, time_axis_flag, date_time_form, tz, ax, fig, ticks, ticklabs, raster, **kwargs)\u001b[0m\n\u001b[1;32m    645\u001b[0m         \u001b[0;32mif\u001b[0m \u001b[0mnorm\u001b[0m \u001b[0;32mis\u001b[0m \u001b[0;32mnot\u001b[0m \u001b[0;32mNone\u001b[0m\u001b[0;34m:\u001b[0m  \u001b[0;31m# if norm is set do not override with vmin/vmax\u001b[0m\u001b[0;34m\u001b[0m\u001b[0;34m\u001b[0m\u001b[0m\n\u001b[1;32m    646\u001b[0m             \u001b[0mvmin\u001b[0m \u001b[0;34m=\u001b[0m \u001b[0mvmax\u001b[0m \u001b[0;34m=\u001b[0m \u001b[0;32mNone\u001b[0m\u001b[0;34m\u001b[0m\u001b[0;34m\u001b[0m\u001b[0m\n\u001b[0;32m--> 647\u001b[0;31m         pm = ax.pcolormesh(\n\u001b[0m\u001b[1;32m    648\u001b[0m             x, y, data, vmin=vmin, vmax=vmax, cmap=cmap, norm=norm, **kwargs)\n\u001b[1;32m    649\u001b[0m \u001b[0;34m\u001b[0m\u001b[0m\n",
            "\u001b[0;32m~/miniconda3/envs/amazon-storms-aerosols/lib/python3.8/site-packages/matplotlib/__init__.py\u001b[0m in \u001b[0;36minner\u001b[0;34m(ax, data, *args, **kwargs)\u001b[0m\n\u001b[1;32m   1436\u001b[0m     \u001b[0;32mdef\u001b[0m \u001b[0minner\u001b[0m\u001b[0;34m(\u001b[0m\u001b[0max\u001b[0m\u001b[0;34m,\u001b[0m \u001b[0;34m*\u001b[0m\u001b[0margs\u001b[0m\u001b[0;34m,\u001b[0m \u001b[0mdata\u001b[0m\u001b[0;34m=\u001b[0m\u001b[0;32mNone\u001b[0m\u001b[0;34m,\u001b[0m \u001b[0;34m**\u001b[0m\u001b[0mkwargs\u001b[0m\u001b[0;34m)\u001b[0m\u001b[0;34m:\u001b[0m\u001b[0;34m\u001b[0m\u001b[0;34m\u001b[0m\u001b[0m\n\u001b[1;32m   1437\u001b[0m         \u001b[0;32mif\u001b[0m \u001b[0mdata\u001b[0m \u001b[0;32mis\u001b[0m \u001b[0;32mNone\u001b[0m\u001b[0;34m:\u001b[0m\u001b[0;34m\u001b[0m\u001b[0;34m\u001b[0m\u001b[0m\n\u001b[0;32m-> 1438\u001b[0;31m             \u001b[0;32mreturn\u001b[0m \u001b[0mfunc\u001b[0m\u001b[0;34m(\u001b[0m\u001b[0max\u001b[0m\u001b[0;34m,\u001b[0m \u001b[0;34m*\u001b[0m\u001b[0mmap\u001b[0m\u001b[0;34m(\u001b[0m\u001b[0msanitize_sequence\u001b[0m\u001b[0;34m,\u001b[0m \u001b[0margs\u001b[0m\u001b[0;34m)\u001b[0m\u001b[0;34m,\u001b[0m \u001b[0;34m**\u001b[0m\u001b[0mkwargs\u001b[0m\u001b[0;34m)\u001b[0m\u001b[0;34m\u001b[0m\u001b[0;34m\u001b[0m\u001b[0m\n\u001b[0m\u001b[1;32m   1439\u001b[0m \u001b[0;34m\u001b[0m\u001b[0m\n\u001b[1;32m   1440\u001b[0m         \u001b[0mbound\u001b[0m \u001b[0;34m=\u001b[0m \u001b[0mnew_sig\u001b[0m\u001b[0;34m.\u001b[0m\u001b[0mbind\u001b[0m\u001b[0;34m(\u001b[0m\u001b[0max\u001b[0m\u001b[0;34m,\u001b[0m \u001b[0;34m*\u001b[0m\u001b[0margs\u001b[0m\u001b[0;34m,\u001b[0m \u001b[0;34m**\u001b[0m\u001b[0mkwargs\u001b[0m\u001b[0;34m)\u001b[0m\u001b[0;34m\u001b[0m\u001b[0;34m\u001b[0m\u001b[0m\n",
            "\u001b[0;32m~/miniconda3/envs/amazon-storms-aerosols/lib/python3.8/site-packages/matplotlib/axes/_axes.py\u001b[0m in \u001b[0;36mpcolormesh\u001b[0;34m(self, alpha, norm, cmap, vmin, vmax, shading, antialiased, *args, **kwargs)\u001b[0m\n\u001b[1;32m   6101\u001b[0m         \u001b[0mcollection\u001b[0m\u001b[0;34m.\u001b[0m\u001b[0mset_alpha\u001b[0m\u001b[0;34m(\u001b[0m\u001b[0malpha\u001b[0m\u001b[0;34m)\u001b[0m\u001b[0;34m\u001b[0m\u001b[0;34m\u001b[0m\u001b[0m\n\u001b[1;32m   6102\u001b[0m         \u001b[0mcollection\u001b[0m\u001b[0;34m.\u001b[0m\u001b[0mset_array\u001b[0m\u001b[0;34m(\u001b[0m\u001b[0mC\u001b[0m\u001b[0;34m)\u001b[0m\u001b[0;34m\u001b[0m\u001b[0;34m\u001b[0m\u001b[0m\n\u001b[0;32m-> 6103\u001b[0;31m         \u001b[0mcollection\u001b[0m\u001b[0;34m.\u001b[0m\u001b[0mset_cmap\u001b[0m\u001b[0;34m(\u001b[0m\u001b[0mcmap\u001b[0m\u001b[0;34m)\u001b[0m\u001b[0;34m\u001b[0m\u001b[0;34m\u001b[0m\u001b[0m\n\u001b[0m\u001b[1;32m   6104\u001b[0m         \u001b[0mcollection\u001b[0m\u001b[0;34m.\u001b[0m\u001b[0mset_norm\u001b[0m\u001b[0;34m(\u001b[0m\u001b[0mnorm\u001b[0m\u001b[0;34m)\u001b[0m\u001b[0;34m\u001b[0m\u001b[0;34m\u001b[0m\u001b[0m\n\u001b[1;32m   6105\u001b[0m         \u001b[0mcollection\u001b[0m\u001b[0;34m.\u001b[0m\u001b[0m_scale_norm\u001b[0m\u001b[0;34m(\u001b[0m\u001b[0mnorm\u001b[0m\u001b[0;34m,\u001b[0m \u001b[0mvmin\u001b[0m\u001b[0;34m,\u001b[0m \u001b[0mvmax\u001b[0m\u001b[0;34m)\u001b[0m\u001b[0;34m\u001b[0m\u001b[0;34m\u001b[0m\u001b[0m\n",
            "\u001b[0;32m~/miniconda3/envs/amazon-storms-aerosols/lib/python3.8/site-packages/matplotlib/cm.py\u001b[0m in \u001b[0;36mset_cmap\u001b[0;34m(self, cmap)\u001b[0m\n\u001b[1;32m    403\u001b[0m         \"\"\"\n\u001b[1;32m    404\u001b[0m         \u001b[0min_init\u001b[0m \u001b[0;34m=\u001b[0m \u001b[0mself\u001b[0m\u001b[0;34m.\u001b[0m\u001b[0mcmap\u001b[0m \u001b[0;32mis\u001b[0m \u001b[0;32mNone\u001b[0m\u001b[0;34m\u001b[0m\u001b[0;34m\u001b[0m\u001b[0m\n\u001b[0;32m--> 405\u001b[0;31m         \u001b[0mcmap\u001b[0m \u001b[0;34m=\u001b[0m \u001b[0mget_cmap\u001b[0m\u001b[0;34m(\u001b[0m\u001b[0mcmap\u001b[0m\u001b[0;34m)\u001b[0m\u001b[0;34m\u001b[0m\u001b[0;34m\u001b[0m\u001b[0m\n\u001b[0m\u001b[1;32m    406\u001b[0m         \u001b[0mself\u001b[0m\u001b[0;34m.\u001b[0m\u001b[0mcmap\u001b[0m \u001b[0;34m=\u001b[0m \u001b[0mcmap\u001b[0m\u001b[0;34m\u001b[0m\u001b[0;34m\u001b[0m\u001b[0m\n\u001b[1;32m    407\u001b[0m         \u001b[0;32mif\u001b[0m \u001b[0;32mnot\u001b[0m \u001b[0min_init\u001b[0m\u001b[0;34m:\u001b[0m\u001b[0;34m\u001b[0m\u001b[0;34m\u001b[0m\u001b[0m\n",
            "\u001b[0;32m~/miniconda3/envs/amazon-storms-aerosols/lib/python3.8/site-packages/matplotlib/cm.py\u001b[0m in \u001b[0;36mget_cmap\u001b[0;34m(name, lut)\u001b[0m\n\u001b[1;32m    202\u001b[0m     \u001b[0;32mif\u001b[0m \u001b[0misinstance\u001b[0m\u001b[0;34m(\u001b[0m\u001b[0mname\u001b[0m\u001b[0;34m,\u001b[0m \u001b[0mcolors\u001b[0m\u001b[0;34m.\u001b[0m\u001b[0mColormap\u001b[0m\u001b[0;34m)\u001b[0m\u001b[0;34m:\u001b[0m\u001b[0;34m\u001b[0m\u001b[0;34m\u001b[0m\u001b[0m\n\u001b[1;32m    203\u001b[0m         \u001b[0;32mreturn\u001b[0m \u001b[0mname\u001b[0m\u001b[0;34m\u001b[0m\u001b[0;34m\u001b[0m\u001b[0m\n\u001b[0;32m--> 204\u001b[0;31m     \u001b[0mcbook\u001b[0m\u001b[0;34m.\u001b[0m\u001b[0m_check_in_list\u001b[0m\u001b[0;34m(\u001b[0m\u001b[0msorted\u001b[0m\u001b[0;34m(\u001b[0m\u001b[0m_cmap_registry\u001b[0m\u001b[0;34m)\u001b[0m\u001b[0;34m,\u001b[0m \u001b[0mname\u001b[0m\u001b[0;34m=\u001b[0m\u001b[0mname\u001b[0m\u001b[0;34m)\u001b[0m\u001b[0;34m\u001b[0m\u001b[0;34m\u001b[0m\u001b[0m\n\u001b[0m\u001b[1;32m    205\u001b[0m     \u001b[0;32mif\u001b[0m \u001b[0mlut\u001b[0m \u001b[0;32mis\u001b[0m \u001b[0;32mNone\u001b[0m\u001b[0;34m:\u001b[0m\u001b[0;34m\u001b[0m\u001b[0;34m\u001b[0m\u001b[0m\n\u001b[1;32m    206\u001b[0m         \u001b[0;32mreturn\u001b[0m \u001b[0m_cmap_registry\u001b[0m\u001b[0;34m[\u001b[0m\u001b[0mname\u001b[0m\u001b[0;34m]\u001b[0m\u001b[0;34m\u001b[0m\u001b[0;34m\u001b[0m\u001b[0m\n",
            "\u001b[0;32m~/miniconda3/envs/amazon-storms-aerosols/lib/python3.8/site-packages/matplotlib/cbook/__init__.py\u001b[0m in \u001b[0;36m_check_in_list\u001b[0;34m(_values, **kwargs)\u001b[0m\n\u001b[1;32m   2253\u001b[0m     \u001b[0;32mfor\u001b[0m \u001b[0mk\u001b[0m\u001b[0;34m,\u001b[0m \u001b[0mv\u001b[0m \u001b[0;32min\u001b[0m \u001b[0mkwargs\u001b[0m\u001b[0;34m.\u001b[0m\u001b[0mitems\u001b[0m\u001b[0;34m(\u001b[0m\u001b[0;34m)\u001b[0m\u001b[0;34m:\u001b[0m\u001b[0;34m\u001b[0m\u001b[0;34m\u001b[0m\u001b[0m\n\u001b[1;32m   2254\u001b[0m         \u001b[0;32mif\u001b[0m \u001b[0mv\u001b[0m \u001b[0;32mnot\u001b[0m \u001b[0;32min\u001b[0m \u001b[0mvalues\u001b[0m\u001b[0;34m:\u001b[0m\u001b[0;34m\u001b[0m\u001b[0;34m\u001b[0m\u001b[0m\n\u001b[0;32m-> 2255\u001b[0;31m             raise ValueError(\n\u001b[0m\u001b[1;32m   2256\u001b[0m                 \u001b[0;34m\"{!r} is not a valid value for {}; supported values are {}\"\u001b[0m\u001b[0;34m\u001b[0m\u001b[0;34m\u001b[0m\u001b[0m\n\u001b[1;32m   2257\u001b[0m                 .format(v, k, ', '.join(map(repr, values))))\n",
            "\u001b[0;31mValueError\u001b[0m: 'pyart_x' is not a valid value for name; supported values are 'Accent', 'Accent_r', 'Blues', 'Blues_r', 'BrBG', 'BrBG_r', 'BuGn', 'BuGn_r', 'BuPu', 'BuPu_r', 'CMRmap', 'CMRmap_r', 'Dark2', 'Dark2_r', 'GnBu', 'GnBu_r', 'Greens', 'Greens_r', 'Greys', 'Greys_r', 'OrRd', 'OrRd_r', 'Oranges', 'Oranges_r', 'PRGn', 'PRGn_r', 'Paired', 'Paired_r', 'Pastel1', 'Pastel1_r', 'Pastel2', 'Pastel2_r', 'PiYG', 'PiYG_r', 'PuBu', 'PuBuGn', 'PuBuGn_r', 'PuBu_r', 'PuOr', 'PuOr_r', 'PuRd', 'PuRd_r', 'Purples', 'Purples_r', 'RdBu', 'RdBu_r', 'RdGy', 'RdGy_r', 'RdPu', 'RdPu_r', 'RdYlBu', 'RdYlBu_r', 'RdYlGn', 'RdYlGn_r', 'Reds', 'Reds_r', 'Set1', 'Set1_r', 'Set2', 'Set2_r', 'Set3', 'Set3_r', 'Spectral', 'Spectral_r', 'Wistia', 'Wistia_r', 'YlGn', 'YlGnBu', 'YlGnBu_r', 'YlGn_r', 'YlOrBr', 'YlOrBr_r', 'YlOrRd', 'YlOrRd_r', 'afmhot', 'afmhot_r', 'autumn', 'autumn_r', 'binary', 'binary_r', 'bone', 'bone_r', 'brg', 'brg_r', 'bwr', 'bwr_r', 'cividis', 'cividis_r', 'cool', 'cool_r', 'coolwarm', 'coolwarm_r', 'copper', 'copper_r', 'cubehelix', 'cubehelix_r', 'flag', 'flag_r', 'gist_earth', 'gist_earth_r', 'gist_gray', 'gist_gray_r', 'gist_heat', 'gist_heat_r', 'gist_ncar', 'gist_ncar_r', 'gist_rainbow', 'gist_rainbow_r', 'gist_stern', 'gist_stern_r', 'gist_yarg', 'gist_yarg_r', 'gnuplot', 'gnuplot2', 'gnuplot2_r', 'gnuplot_r', 'gray', 'gray_r', 'hot', 'hot_r', 'hsv', 'hsv_r', 'inferno', 'inferno_r', 'jet', 'jet_r', 'magma', 'magma_r', 'nipy_spectral', 'nipy_spectral_r', 'ocean', 'ocean_r', 'pink', 'pink_r', 'plasma', 'plasma_r', 'prism', 'prism_r', 'pyart_BlueBrown10', 'pyart_BlueBrown10_r', 'pyart_BlueBrown11', 'pyart_BlueBrown11_r', 'pyart_BrBu10', 'pyart_BrBu10_r', 'pyart_BrBu12', 'pyart_BrBu12_r', 'pyart_Bu10', 'pyart_Bu10_r', 'pyart_Bu7', 'pyart_Bu7_r', 'pyart_BuDOr12', 'pyart_BuDOr12_r', 'pyart_BuDOr18', 'pyart_BuDOr18_r', 'pyart_BuDRd12', 'pyart_BuDRd12_r', 'pyart_BuDRd18', 'pyart_BuDRd18_r', 'pyart_BuGr14', 'pyart_BuGr14_r', 'pyart_BuGy8', 'pyart_BuGy8_r', 'pyart_BuOr10', 'pyart_BuOr10_r', 'pyart_BuOr12', 'pyart_BuOr12_r', 'pyart_BuOr8', 'pyart_BuOr8_r', 'pyart_BuOrR14', 'pyart_BuOrR14_r', 'pyart_Carbone11', 'pyart_Carbone11_r', 'pyart_Carbone17', 'pyart_Carbone17_r', 'pyart_Carbone42', 'pyart_Carbone42_r', 'pyart_Cat12', 'pyart_Cat12_r', 'pyart_EWilson17', 'pyart_EWilson17_r', 'pyart_GrMg16', 'pyart_GrMg16_r', 'pyart_Gray5', 'pyart_Gray5_r', 'pyart_Gray9', 'pyart_Gray9_r', 'pyart_HomeyerRainbow', 'pyart_HomeyerRainbow_r', 'pyart_LangRainbow12', 'pyart_LangRainbow12_r', 'pyart_NWSRef', 'pyart_NWSRef_r', 'pyart_NWSVel', 'pyart_NWSVel_r', 'pyart_NWS_SPW', 'pyart_NWS_SPW_r', 'pyart_PD17', 'pyart_PD17_r', 'pyart_RRate11', 'pyart_RRate11_r', 'pyart_RdYlBu11b', 'pyart_RdYlBu11b_r', 'pyart_RefDiff', 'pyart_RefDiff_r', 'pyart_SCook18', 'pyart_SCook18_r', 'pyart_StepSeq25', 'pyart_StepSeq25_r', 'pyart_SymGray12', 'pyart_SymGray12_r', 'pyart_Theodore16', 'pyart_Theodore16_r', 'pyart_Wild25', 'pyart_Wild25_r', 'pyart_balance', 'pyart_balance_r', 'rainbow', 'rainbow_r', 'seismic', 'seismic_r', 'spring', 'spring_r', 'summer', 'summer_r', 'tab10', 'tab10_r', 'tab20', 'tab20_r', 'tab20b', 'tab20b_r', 'tab20c', 'tab20c_r', 'terrain', 'terrain_r', 'turbo', 'turbo_r', 'twilight', 'twilight_r', 'twilight_shifted', 'twilight_shifted_r', 'viridis', 'viridis_r', 'winter', 'winter_r'"
          ]
        }
      ]
    },
    {
      "cell_type": "code",
      "execution_count": null,
      "metadata": {},
      "outputs": [],
      "source": []
    }
  ]
}