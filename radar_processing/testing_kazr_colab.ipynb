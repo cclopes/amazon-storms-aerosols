{
  "nbformat": 4,
  "nbformat_minor": 0,
  "metadata": {
    "colab": {
      "name": "testing_kazr_colab.ipynb",
      "provenance": [],
      "mount_file_id": "1APvqpy8pzE0YkHXvkkOyeSP9NZ2IqRxA",
      "authorship_tag": "ABX9TyNoF+7oaTIstqOp1uQA+OPN"
    },
    "kernelspec": {
      "name": "python3",
      "display_name": "Python 3"
    }
  },
  "cells": [
    {
      "cell_type": "code",
      "metadata": {
        "id": "BJ0oCWhtqfjl",
        "colab_type": "code",
        "colab": {
          "base_uri": "https://localhost:8080/",
          "height": 122
        },
        "outputId": "fa3b9f19-26dc-4a01-b0cb-02395ea7f7cc"
      },
      "source": [
        "from google.colab import drive\n",
        "drive.mount('/content/drive')"
      ],
      "execution_count": null,
      "outputs": [
        {
          "output_type": "stream",
          "text": [
            "Go to this URL in a browser: https://accounts.google.com/o/oauth2/auth?client_id=947318989803-6bn6qk8qdgf4n4g3pfee6491hc0brc4i.apps.googleusercontent.com&redirect_uri=urn%3aietf%3awg%3aoauth%3a2.0%3aoob&response_type=code&scope=email%20https%3a%2f%2fwww.googleapis.com%2fauth%2fdocs.test%20https%3a%2f%2fwww.googleapis.com%2fauth%2fdrive%20https%3a%2f%2fwww.googleapis.com%2fauth%2fdrive.photos.readonly%20https%3a%2f%2fwww.googleapis.com%2fauth%2fpeopleapi.readonly\n",
            "\n",
            "Enter your authorization code:\n",
            "··········\n",
            "Mounted at /content/drive\n"
          ],
          "name": "stdout"
        }
      ]
    },
    {
      "cell_type": "code",
      "metadata": {
        "id": "1fknhl17xE5j",
        "colab_type": "code",
        "colab": {}
      },
      "source": [
        "from xarray import open_dataset\n",
        "\n",
        "import os"
      ],
      "execution_count": 18,
      "outputs": []
    },
    {
      "cell_type": "code",
      "metadata": {
        "id": "OxteHUG-trvC",
        "colab_type": "code",
        "colab": {}
      },
      "source": [
        "path = '/content/drive/My Drive/Repositórios/amazon-storms-aerosols/data/radar/ka_cordoba/a1/'\n",
        "files = sorted(os.listdir(path))[15]\n",
        "ds = open_dataset(path + files)"
      ],
      "execution_count": 19,
      "outputs": []
    },
    {
      "cell_type": "code",
      "metadata": {
        "id": "PRaQfHThxYtH",
        "colab_type": "code",
        "colab": {
          "base_uri": "https://localhost:8080/",
          "height": 1000
        },
        "outputId": "1550b918-6a3f-4a85-f5c8-ed7765b254c8"
      },
      "source": [
        "print(ds)"
      ],
      "execution_count": 21,
      "outputs": [
        {
          "output_type": "stream",
          "text": [
            "<xarray.Dataset>\n",
            "Dimensions:                             (frequency: 1, r_calib: 1, range: 600, sweep: 1, time: 1735)\n",
            "Coordinates:\n",
            "  * time                                (time) datetime64[ns] 2018-12-01T00:00:00.355703 ... 2018-12-01T00:59:55.978880\n",
            "  * frequency                           (frequency) float32 34890000000.0\n",
            "  * range                               (range) float32 100.679245 ... 18058.248\n",
            "    azimuth                             (time) float32 0.0 0.0 0.0 ... 0.0 0.0\n",
            "    elevation                           (time) float32 90.0 90.0 ... 90.0 90.0\n",
            "Dimensions without coordinates: r_calib, sweep\n",
            "Data variables:\n",
            "    base_time                           datetime64[ns] 2018-12-01T14:00:05\n",
            "    time_offset                         (time) datetime64[ns] 2018-12-01T00:00:00.355703 ... 2018-12-01T00:59:55.978880\n",
            "    linear_depolarization_ratio         (time, range) float32 ...\n",
            "    mean_doppler_velocity               (time, range) float32 ...\n",
            "    mean_doppler_velocity_crosspolar_v  (time, range) float32 ...\n",
            "    reflectivity                        (time, range) float32 ...\n",
            "    reflectivity_crosspolar_v           (time, range) float32 ...\n",
            "    signal_to_noise_ratio_copolar_h     (time, range) float32 ...\n",
            "    signal_to_noise_ratio_crosspolar_v  (time, range) float32 ...\n",
            "    spectral_width                      (time, range) float32 ...\n",
            "    spectral_width_crosspolar_v         (time, range) float32 ...\n",
            "    burst_width                         (time) float32 300.0 300.0 ... 300.0\n",
            "    chirp_width                         (time) float32 3990.0 3990.0 ... 3990.0\n",
            "    fixed_angle                         (sweep) float32 90.0\n",
            "    n_samples                           (time) float64 15.0 15.0 ... 15.0 15.0\n",
            "    noise_figure                        (time) float32 -67.0322 ... -67.0322\n",
            "    nyquist_velocity                    (time) float32 7.9682517 ... 7.9682517\n",
            "    prt                                 (time) float32 0.00027005 ... 0.00027005\n",
            "    pulse_width                         (time) float32 3e-07 3e-07 ... 3e-07\n",
            "    r_calib_radar_constant_copol        (r_calib) float32 -9.012006\n",
            "    r_calib_radar_constant_crosspol     (r_calib) float32 -13.42108\n",
            "    r_calib_two_way_radome_loss_h       (r_calib) float32 2.0\n",
            "    radar_beam_width_h                  float64 0.19\n",
            "    radar_beam_width_v                  float64 0.19\n",
            "    radar_measured_sky_noise_h          (time) float32 -68.66542 ... -68.66867\n",
            "    radar_measured_sky_noise_v          (time) float32 nan nan nan ... nan nan\n",
            "    radar_measured_transmit_power       (time) float32 49.9534 ... 49.9534\n",
            "    receiver_gain_copol                 (time) float32 39.6014 ... 39.6014\n",
            "    sweep_end_ray_index                 (sweep) float64 1.734e+03\n",
            "    sweep_mode                          (sweep) |S22 b'vertical pointing '\n",
            "    sweep_number                        (sweep) float64 0.0\n",
            "    sweep_start_ray_index               (sweep) float64 0.0\n",
            "    unambiguous_range                   (time) float32 30698.748 ... 30698.748\n",
            "    latitude                            float64 -32.13\n",
            "    longitude                           float64 -64.73\n",
            "    altitude                            float64 1.141e+03\n",
            "    altitude_agl                        float64 nan\n",
            "    lat                                 float64 -32.13\n",
            "    lon                                 float64 -64.73\n",
            "    alt                                 float64 1.141e+03\n",
            "Attributes:\n",
            "    command_line:             kazrcfr_ingest -s cor -f M1\n",
            "    Conventions:              ARM-1.2 CF/Radial-1.4 instrument_parameters rad...\n",
            "    process_version:          ingest-kazrcfr-1.2-0.el6\n",
            "    dod_version:              kazrcfrge-a1-1.0\n",
            "    input_source:             /data/collection/cor/corkazrM1.00/KAZR_MOMENTS_...\n",
            "    site_id:                  cor\n",
            "    platform_id:              kazrcfrge\n",
            "    facility_id:              M1\n",
            "    data_level:               a1\n",
            "    location_description:     Cloud, Aerosol, and Complex Terrain Interaction...\n",
            "    datastream:               corkazrcfrgeM1.a1\n",
            "    antenna_altitude:         3 m\n",
            "    antenna_diameter:         2 m\n",
            "    comment:                  \n",
            "    digital_rx_dec:           24\n",
            "    fft_len:                  512\n",
            "    filter_length:            106\n",
            "    institution:              Department of Energy Atmospheric Radiation Meas...\n",
            "    n_gates:                  1024\n",
            "    num_spectral_averages:    15\n",
            "    pulse_compression_ratio:  13.3\n",
            "    range_gate_spacing_m:     29.979246\n",
            "    range_offset_ch1:           -1.4 m\n",
            "    range_offset_ch2:           70.7 m\n",
            "    software_version:         1.7.6 (Wed Mar 23 17:10:35 UTC 2016 leachman\n",
            "    title:                    ARM KAZR Moments\n",
            "    doi:                      10.5439/1478370\n",
            "    history:                  created by user dsmgr on machine ruby at 2018-1...\n"
          ],
          "name": "stdout"
        }
      ]
    },
    {
      "cell_type": "code",
      "metadata": {
        "id": "zyUl-MFywkNv",
        "colab_type": "code",
        "colab": {
          "base_uri": "https://localhost:8080/",
          "height": 190
        },
        "outputId": "4c89ed9f-09ca-4a54-9353-56e8aee9055d"
      },
      "source": [
        "!pip install netcdf4"
      ],
      "execution_count": 7,
      "outputs": [
        {
          "output_type": "stream",
          "text": [
            "Collecting netcdf4\n",
            "\u001b[?25l  Downloading https://files.pythonhosted.org/packages/35/4f/d49fe0c65dea4d2ebfdc602d3e3d2a45a172255c151f4497c43f6d94a5f6/netCDF4-1.5.3-cp36-cp36m-manylinux1_x86_64.whl (4.1MB)\n",
            "\u001b[K     |████████████████████████████████| 4.1MB 2.8MB/s \n",
            "\u001b[?25hCollecting cftime\n",
            "\u001b[?25l  Downloading https://files.pythonhosted.org/packages/eb/0f/846488085d0f5517d79dfd7a12cd231ff87b94265a5bbfef62da56a6b029/cftime-1.2.0-cp36-cp36m-manylinux1_x86_64.whl (282kB)\n",
            "\u001b[K     |████████████████████████████████| 286kB 35.2MB/s \n",
            "\u001b[?25hRequirement already satisfied: numpy>=1.7 in /usr/local/lib/python3.6/dist-packages (from netcdf4) (1.18.5)\n",
            "Installing collected packages: cftime, netcdf4\n",
            "Successfully installed cftime-1.2.0 netcdf4-1.5.3\n"
          ],
          "name": "stdout"
        }
      ]
    }
  ]
}