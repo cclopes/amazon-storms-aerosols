{
 "cells": [
  {
   "cell_type": "code",
   "execution_count": 1,
   "metadata": {},
   "outputs": [
    {
     "name": "stdout",
     "output_type": "stream",
     "text": [
      "\n",
      "## You are using the Python ARM Radar Toolkit (Py-ART), an open source\n",
      "## library for working with weather radar data. Py-ART is partly\n",
      "## supported by the U.S. Department of Energy as part of the Atmospheric\n",
      "## Radiation Measurement (ARM) Climate Research Facility, an Office of\n",
      "## Science user facility.\n",
      "##\n",
      "## If you use this software to prepare a publication, please cite:\n",
      "##\n",
      "##     JJ Helmus and SM Collis, JORS 2016, doi: 10.5334/jors.119\n",
      "\n"
     ]
    }
   ],
   "source": [
    "import pyart\n",
    "import netCDF4\n",
    "import pandas as pd\n",
    "import numpy as np\n",
    "import matplotlib.pyplot as plt"
   ]
  },
  {
   "cell_type": "code",
   "execution_count": null,
   "metadata": {},
   "outputs": [],
   "source": [
    "sipam_cptec = np.fromfile(\"/home/camila/git/amazon-storms-aerosols/data/radar/sipam_manaus/cptec_cappi/2014/05/cappi_201405091136.dat\", dtype=\"float32\").reshape(15,500,500)\n",
    "sipam_cptec[sipam_cptec == -99.] = np.nan\n",
    "plt.pcolormesh(sipam_cptec[0,:,:])\n"
   ]
  },
  {
   "cell_type": "code",
   "execution_count": null,
   "metadata": {},
   "outputs": [],
   "source": [
    "test = sipam_cptec[:, ::2, ::2]\n",
    "test.shape"
   ]
  },
  {
   "cell_type": "code",
   "execution_count": null,
   "metadata": {},
   "outputs": [],
   "source": [
    "plt.pcolormesh(test[0,:,:])"
   ]
  },
  {
   "cell_type": "code",
   "execution_count": null,
   "metadata": {},
   "outputs": [],
   "source": [
    "# sipam_level0 = pyart.aux_io.read_gamic(\"/home/camila/git/amazon-storms-aerosols/data/radar/sipam_manaus/arm/201409/RADL08061720140918140000.HDF5\")\n",
    "# sipam_level0 = netCDF4.Dataset(\"/home/camila/git/amazon-storms-aerosols/data/radar/sipam_manaus/arm/201409/RADL08061720140918140000.HDF5\")\n",
    "sipam_mvol = netCDF4.Dataset(\"/home/camila/git/amazon-storms-aerosols/data/radar/sipam_manaus/arm/mvol/2015-04-03_0524.mvol\")\n",
    "# sipam_mvol = pyart.aux_io.read_gamic(\"/home/camila/git/amazon-storms-aerosols/data/radar/sipam_manaus/arm/mvol/2015-04-03_0524.mvol\")"
   ]
  },
  {
   "cell_type": "code",
   "execution_count": null,
   "metadata": {},
   "outputs": [],
   "source": [
    "with open(\"/home/camila/git/amazon-storms-aerosols/radar_processing/files_HDF5_test_dry_season\") as f:\n",
    "    files = f.read().splitlines()\n",
    "print(files)"
   ]
  },
  {
   "cell_type": "code",
   "execution_count": null,
   "metadata": {},
   "outputs": [],
   "source": [
    "radar = pyart.aux_io.read_gamic(\"/home/camila/git/amazon-storms-aerosols/data/radar/sipam_manaus/arm/mvol/\" + files[0])\n",
    "# elevations_fixed = [radar.fixed_angle[\"data\"]]\n",
    "elevations_fixed = [radar.rays_per_sweep[\"data\"]]\n",
    "# elevations_fixed = [np.unique(radar.instrument_parameters[\"pulse_width\"][\"data\"]*3e8/2)]\n",
    "# radar = pyart.aux_io.read_gamic(\"/home/camila/git/amazon-storms-aerosols/data/radar/sipam_manaus/arm/201409/\" + files[1])\n",
    "\n",
    "for file in files:\n",
    "    radar = pyart.aux_io.read_gamic(\"/home/camila/git/amazon-storms-aerosols/data/radar/sipam_manaus/arm/mvol/\" + file)\n",
    "    # print([i for i, j in zip(elevations_fixed, radar.fixed_angle[\"data\"]) if i != j])\n",
    "    # match = [i for i, j in zip(np.unique(radar.instrument_parameters[\"pulse_width\"][\"data\"]*3e8/2), elevations_fixed[0]) if i != j]\n",
    "    # match = [i for i, j in zip(radar.fixed_angle[\"data\"], elevations_fixed[0]) if i != j]\n",
    "    match = [i for i, j in zip(radar.rays_per_sweep[\"data\"], elevations_fixed[0]) if i != j]\n",
    "    if len(match) > 0:\n",
    "        elevations_fixed.append(match)\n",
    "    # print(radar.rays_per_sweep[\"data\"])\n",
    "\n",
    "len(elevations_fixed)"
   ]
  },
  {
   "cell_type": "code",
   "execution_count": null,
   "metadata": {},
   "outputs": [],
   "source": [
    "elevations_fixed"
   ]
  },
  {
   "cell_type": "code",
   "execution_count": null,
   "metadata": {},
   "outputs": [],
   "source": [
    "sipam_mvol.instrument_parameters"
   ]
  },
  {
   "cell_type": "code",
   "execution_count": null,
   "metadata": {},
   "outputs": [],
   "source": [
    "sipam_level0.get_elevation(3)"
   ]
  },
  {
   "cell_type": "code",
   "execution_count": null,
   "metadata": {},
   "outputs": [],
   "source": [
    "sipam_level0.azimuth[\"data\"].shape"
   ]
  },
  {
   "cell_type": "code",
   "execution_count": null,
   "metadata": {},
   "outputs": [],
   "source": [
    "sipam_level0.azimuth[\"data\"][:100]"
   ]
  },
  {
   "cell_type": "code",
   "execution_count": null,
   "metadata": {},
   "outputs": [],
   "source": [
    "radar = netCDF4.Dataset(\"/home/camila/git/amazon-storms-aerosols/data/radar/sipam_manaus/arm/201409/\" + files[0])\n",
    "range_step = [radar[\"scan0\"][\"how\"].range_step]\n",
    "\n",
    "for file in files:\n",
    "    radar = netCDF4.Dataset(\"/home/camila/git/amazon-storms-aerosols/data/radar/sipam_manaus/arm/201409/\" + file)\n",
    "    for scan in [\"scan0\", \"scan1\", \"scan10\", \"scan11\", \"scan12\", \"scan13\", \"scan14\", \"scan15\", \"scan16\", \"scan2\", \"scan3\", \"scan4\", \"scan5\", \"scan6\", \"scan7\", \"scan8\", \"scan9\"]:\n",
    "        if radar[scan][\"how\"].range_step != range_step[0]:\n",
    "            range_step.append(radar[scan][\"how\"].range_step)\n",
    "\n",
    "len(range_step)"
   ]
  },
  {
   "cell_type": "code",
   "execution_count": null,
   "metadata": {},
   "outputs": [],
   "source": [
    "range_step"
   ]
  },
  {
   "cell_type": "markdown",
   "metadata": {},
   "source": [
    "2015-04-03_0524\n",
    "2015-04-03T05:24:06.965Z\n",
    "2015-04-03T05:24:37.160Z\n",
    "2015-04-03T05:25:07.341Z\n",
    "2015-04-03T05:25:37.517Z\n",
    "2015-04-03T05:26:09.001Z\n",
    "2015-04-03T05:26:42.352Z\n",
    "2015-04-03T05:27:14.294Z\n",
    "2015-04-03T05:27:46.322Z\n",
    "2015-04-03T05:28:17.072Z\n",
    "2015-04-03T05:28:50.626Z\n",
    "2015-04-03T05:29:23.173Z\n",
    "2015-04-03T05:29:56.727Z\n",
    "2015-04-03T05:30:28.875Z\n",
    "2015-04-03T05:31:01.824Z\n",
    "2015-04-03T05:31:34.775Z\n",
    "2015-04-03T05:32:06.719Z\n",
    "2015-04-03T05:32:38.916Z\n"
   ]
  },
  {
   "cell_type": "code",
   "execution_count": null,
   "metadata": {},
   "outputs": [],
   "source": [
    "sipam_mvol[\"scan17\"][\"how\"]"
   ]
  },
  {
   "cell_type": "code",
   "execution_count": null,
   "metadata": {},
   "outputs": [],
   "source": [
    "sipam_mvol[\"scan0\"][\"how\"].range_step"
   ]
  }
 ],
 "metadata": {
  "interpreter": {
   "hash": "67d2af2856ad03febfd1d98eed6c91826723c285709554c010c58e904000a44c"
  },
  "kernelspec": {
   "display_name": "Python 3.9.7 ('amazon-storms-aerosols')",
   "language": "python",
   "name": "python3"
  },
  "language_info": {
   "codemirror_mode": {
    "name": "ipython",
    "version": 3
   },
   "file_extension": ".py",
   "mimetype": "text/x-python",
   "name": "python",
   "nbconvert_exporter": "python",
   "pygments_lexer": "ipython3",
   "version": "3.9.7"
  },
  "orig_nbformat": 4
 },
 "nbformat": 4,
 "nbformat_minor": 2
}
