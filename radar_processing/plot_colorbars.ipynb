{
 "cells": [
  {
   "cell_type": "markdown",
   "metadata": {},
   "source": [
    "# Plotting colorbars (example)\n",
    "\n",
    "@author: Camila Lopes (camila.lopes@iag.usp.br)"
   ]
  },
  {
   "cell_type": "code",
   "execution_count": null,
   "metadata": {
    "tags": []
   },
   "outputs": [],
   "source": [
    "import matplotlib as mpl\n",
    "import matplotlib.pyplot as plt\n",
    "import pyart"
   ]
  },
  {
   "cell_type": "code",
   "execution_count": null,
   "metadata": {},
   "outputs": [],
   "source": [
    "def plot_colorMaps(cmap):\n",
    "    \"\"\"\n",
    "    Plotting a colormap\n",
    "\n",
    "    Parameters\n",
    "    ----------\n",
    "    cmap: name of a colormap\n",
    "    \"\"\"\n",
    "\n",
    "    fig, ax = plt.subplots(figsize=(4,0.4))\n",
    "    col_map = pyart.graph.cm._generate_cmap(cmap, 10)\n",
    "    print(col_map)\n",
    "    mpl.colorbar.ColorbarBase(ax, cmap=col_map, orientation = 'horizontal')\n",
    "\n",
    "    plt.show()"
   ]
  },
  {
   "cell_type": "code",
   "execution_count": null,
   "metadata": {},
   "outputs": [],
   "source": [
    "cmaps_pyart = ['BlueBrown10', 'BlueBrown11', 'BrBu10', 'BrBu12',\n",
    "    'Bu10', 'Bu7', 'BuDOr12', 'BuDOr18', 'BuDRd12', 'BuDRd18', 'BuGr14',\n",
    "    'BuGy8', 'BuOr10', 'BuOr12','BuOr8', 'BuOrR14', 'Carbone11', 'Carbone17', \n",
    "    'Carbone42', 'Cat12', 'EWilson17', 'GrMg16', 'Gray5', 'Gray9',\n",
    "    'LangRainbow12', 'NWSRef', 'NWSVel', 'NWS_SPW', 'PD17',\n",
    "    'RRate11', 'RdYlBu11b', 'RefDiff', 'SCook18', 'StepSeq25', 'SymGray12', \n",
    "    'Theodore16', 'Wild25']\n",
    "\n",
    "for cmap_id in cmaps_pyart:\n",
    "    print(cmap_id)\n",
    "    plot_colorMaps(cmap_id)"
   ]
  }
 ],
 "metadata": {
  "kernelspec": {
   "display_name": "Python 3.8.5 64-bit ('amazon-storms-aerosols': conda)",
   "metadata": {
    "interpreter": {
     "hash": "d32b0e4e81467ccc4f13ba795e022151ce2d762a6cc362b62533d2f738214da3"
    }
   },
   "name": "python3"
  },
  "language_info": {
   "codemirror_mode": {
    "name": "ipython",
    "version": 3
   },
   "file_extension": ".py",
   "mimetype": "text/x-python",
   "name": "python",
   "nbconvert_exporter": "python",
   "pygments_lexer": "ipython3",
   "version": "3.8.5-final"
  },
  "orig_nbformat": 2
 },
 "nbformat": 4,
 "nbformat_minor": 2
}