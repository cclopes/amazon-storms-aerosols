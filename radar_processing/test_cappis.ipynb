{
 "cells": [
  {
   "cell_type": "markdown",
   "metadata": {},
   "source": [
    "# Testing CAPPI data with Py-ART and wradlib\n",
    "\n",
    "@author: Camila Lopes (camila.lopes@iag.usp.br)"
   ]
  },
  {
   "cell_type": "code",
   "execution_count": null,
   "metadata": {
    "tags": []
   },
   "outputs": [],
   "source": [
    "import netCDF4\n",
    "import xarray as xr\n",
    "import pyart\n",
    "import wradlib as wrl\n",
    "import cartopy.crs as ccrs\n",
    "import numpy as np\n",
    "import matplotlib.pyplot as plt\n",
    "\n",
    "from read_sipam_cappis import read_sipam_cappi"
   ]
  },
  {
   "cell_type": "code",
   "execution_count": null,
   "metadata": {
    "tags": []
   },
   "outputs": [],
   "source": [
    "def ppi_to_grid(filename):\n",
    "\n",
    "    # Read data and convert to grid\n",
    "    radar = pyart.aux_io.read_gamic(filename)\n",
    "    grid = pyart.map.grid_from_radars(\n",
    "        radar, grid_shape=(20, 501, 501),\n",
    "        grid_limits=((1e3, 20e3), (-250e3, 250e3), (-250e3, 250e3))\n",
    "    )\n",
    "\n",
    "    return grid"
   ]
  },
  {
   "cell_type": "code",
   "execution_count": null,
   "metadata": {},
   "outputs": [],
   "source": [
    "filename = \"../data/radar/sipam_manaus/arm_cappi/20140103/sbmn_cappi_20140103_160011.nc\"\n",
    "wset = wrl.io.read_generic_netcdf(filename)"
   ]
  },
  {
   "cell_type": "code",
   "execution_count": null,
   "metadata": {
    "tags": []
   },
   "outputs": [],
   "source": [
    "plt.imshow(wset['variables']['DBZc']['data'][0, 20, :, :])"
   ]
  },
  {
   "cell_type": "code",
   "execution_count": null,
   "metadata": {
    "tags": []
   },
   "outputs": [],
   "source": [
    "xset = xr.open_dataset(filename)\n",
    "xset.variables['z0']"
   ]
  },
  {
   "cell_type": "code",
   "execution_count": null,
   "metadata": {
    "tags": []
   },
   "outputs": [],
   "source": [
    "dset = netCDF4.Dataset(filename)\n",
    "dset"
   ]
  },
  {
   "cell_type": "code",
   "execution_count": null,
   "metadata": {
    "tags": []
   },
   "outputs": [],
   "source": [
    "dset.variables['time_bounds']"
   ]
  },
  {
   "cell_type": "code",
   "execution_count": null,
   "metadata": {},
   "outputs": [],
   "source": [
    "grid = ppi_to_grid(\"../data/radar/sipam_manaus/arm/201401/RADL08061720140103031200.HDF5\")"
   ]
  },
  {
   "cell_type": "code",
   "execution_count": null,
   "metadata": {
    "tags": []
   },
   "outputs": [],
   "source": [
    "cappi = read_sipam_cappi(filename)"
   ]
  },
  {
   "cell_type": "code",
   "execution_count": null,
   "metadata": {
    "tags": []
   },
   "outputs": [],
   "source": [
    "str(cappi.z['data']/1000)"
   ]
  },
  {
   "cell_type": "code",
   "execution_count": null,
   "metadata": {
    "tags": []
   },
   "outputs": [],
   "source": [
    "pyart.util.datetime_from_grid(cappi).strftime('%Y%m%d%H%M%S')"
   ]
  },
  {
   "cell_type": "code",
   "execution_count": null,
   "metadata": {
    "tags": []
   },
   "outputs": [],
   "source": [
    "np.array(np.ma.MaskedArray.tolist(cappi.fields['DBZc']['data']))\n",
    "# np.nanmax(x[x != None])"
   ]
  },
  {
   "cell_type": "code",
   "execution_count": null,
   "metadata": {
    "tags": []
   },
   "outputs": [],
   "source": [
    "display = pyart.graph.GridMapDisplay(cappi)\n",
    "projection = ccrs.PlateCarree()\n",
    "display.plot_grid('DBZc', level=0, projection=projection)"
   ]
  },
  {
   "cell_type": "code",
   "execution_count": null,
   "metadata": {
    "tags": []
   },
   "outputs": [],
   "source": [
    "display.grid.to_xarray()"
   ]
  },
  {
   "cell_type": "code",
   "execution_count": null,
   "metadata": {
    "tags": []
   },
   "outputs": [],
   "source": [
    "raw = pyart.aux_io.read_gamic(\n",
    "    \"../data/radar/sipam_manaus/arm/201401/RADL08061720140103031200.HDF5\")\n",
    "\n",
    "\"%.2f\" % raw.fixed_angle['data'][0]"
   ]
  },
  {
   "cell_type": "code",
   "execution_count": null,
   "metadata": {
    "tags": []
   },
   "outputs": [],
   "source": [
    "ranges = raw.range['data']\n",
    "elevs = raw.fixed_angle['data']\n",
    "site = (float(raw.longitude['data']),\n",
    "        float(raw.latitude['data']),\n",
    "        float(raw.altitude['data']))\n",
    "beamwidth = float(raw.instrument_parameters['radar_beam_width_h']['data'])\n",
    "\n",
    "\n",
    "ax = wrl.vis.plot_scan_strategy(ranges, elevs, site, beamwidth, vert_res=1000, maxalt=20000, units='km')\n",
    "ax.set_title('SIPAM S-Band')"
   ]
  },
  {
   "cell_type": "code",
   "execution_count": null,
   "metadata": {},
   "outputs": [],
   "source": []
  }
 ],
 "metadata": {
  "kernelspec": {
   "display_name": "Python 3.8.5 64-bit ('amazon-storms-aerosols': conda)",
   "metadata": {
    "interpreter": {
     "hash": "d32b0e4e81467ccc4f13ba795e022151ce2d762a6cc362b62533d2f738214da3"
    }
   },
   "name": "Python 3.8.5 64-bit ('amazon-storms-aerosols': conda)"
  },
  "language_info": {
   "codemirror_mode": {
    "name": "ipython",
    "version": 3
   },
   "file_extension": ".py",
   "mimetype": "text/x-python",
   "name": "python",
   "nbconvert_exporter": "python",
   "pygments_lexer": "ipython3",
   "version": "3.8.5-final"
  },
  "orig_nbformat": 2
 },
 "nbformat": 4,
 "nbformat_minor": 2
}