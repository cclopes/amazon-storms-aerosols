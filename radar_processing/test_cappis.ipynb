{
 "cells": [
  {
   "cell_type": "markdown",
   "metadata": {},
   "source": [
    "# Testing CAPPI data with Py-ART and wradlib\n",
    "\n",
    "@author: Camila Lopes (camila.lopes@iag.usp.br)"
   ]
  },
  {
   "cell_type": "code",
   "execution_count": null,
   "metadata": {
    "tags": []
   },
   "outputs": [],
   "source": [
    "import numpy as np\n",
    "import pandas as pd\n",
    "import matplotlib.pyplot as plt\n",
    "import netCDF4\n",
    "import xarray as xr\n",
    "import cartopy.crs as ccrs\n",
    "from cartopy.mpl.gridliner import LONGITUDE_FORMATTER, LATITUDE_FORMATTER\n",
    "from cartopy.io.shapereader import Reader\n",
    "\n",
    "import pyart\n",
    "import wradlib as wrl\n",
    "\n",
    "from read_sipam_cappis import read_sipam_cappi"
   ]
  },
  {
   "cell_type": "code",
   "execution_count": null,
   "metadata": {
    "tags": []
   },
   "outputs": [],
   "source": [
    "def ppi_to_grid(filename):\n",
    "\n",
    "    # Read data and convert to grid\n",
    "    radar = pyart.aux_io.read_gamic(filename)\n",
    "    grid = pyart.map.grid_from_radars(\n",
    "        radar, grid_shape=(20, 501, 501),\n",
    "        grid_limits=((1e3, 20e3), (-250e3, 250e3), (-250e3, 250e3))\n",
    "    )\n",
    "\n",
    "    return grid"
   ]
  },
  {
   "cell_type": "code",
   "execution_count": null,
   "metadata": {},
   "outputs": [],
   "source": [
    "filename = \"../data/radar/sipam_manaus/arm_cappi/2014-01/20140103/sbmn_cappi_20140103_160011.nc\"\n",
    "wset = wrl.io.read_generic_netcdf(filename)"
   ]
  },
  {
   "cell_type": "code",
   "execution_count": null,
   "metadata": {
    "tags": []
   },
   "outputs": [],
   "source": [
    "plt.imshow(wset['variables']['DBZc']['data'][0, 20, :, :])"
   ]
  },
  {
   "cell_type": "code",
   "execution_count": null,
   "metadata": {
    "tags": []
   },
   "outputs": [],
   "source": [
    "xset = xr.open_dataset(filename)\n",
    "xset.variables['z0']"
   ]
  },
  {
   "cell_type": "code",
   "execution_count": null,
   "metadata": {
    "tags": []
   },
   "outputs": [],
   "source": [
    "dset = netCDF4.Dataset(filename)\n",
    "dset"
   ]
  },
  {
   "cell_type": "code",
   "execution_count": null,
   "metadata": {
    "tags": []
   },
   "outputs": [],
   "source": [
    "dset.variables['time_bounds']"
   ]
  },
  {
   "cell_type": "code",
   "execution_count": null,
   "metadata": {},
   "outputs": [],
   "source": [
    "grid = ppi_to_grid(\"../data/radar/sipam_manaus/arm/201401/RADL08061720140103031200.HDF5\")"
   ]
  },
  {
   "cell_type": "code",
   "execution_count": null,
   "metadata": {
    "tags": []
   },
   "outputs": [],
   "source": [
    "cappi = read_sipam_cappi(filename)"
   ]
  },
  {
   "cell_type": "code",
   "execution_count": null,
   "metadata": {
    "tags": []
   },
   "outputs": [],
   "source": [
    "str(cappi.z['data']/1000)"
   ]
  },
  {
   "cell_type": "code",
   "execution_count": null,
   "metadata": {
    "tags": []
   },
   "outputs": [],
   "source": [
    "pyart.util.datetime_from_grid(cappi).strftime('%Y%m%d%H%M%S')"
   ]
  },
  {
   "cell_type": "code",
   "execution_count": null,
   "metadata": {
    "tags": []
   },
   "outputs": [],
   "source": [
    "np.array(np.ma.MaskedArray.tolist(cappi.fields['DBZc']['data']))\n",
    "# np.nanmax(x[x != None])"
   ]
  },
  {
   "cell_type": "code",
   "execution_count": null,
   "metadata": {
    "tags": []
   },
   "outputs": [],
   "source": [
    "display = pyart.graph.GridMapDisplay(cappi)\n",
    "projection = ccrs.PlateCarree()\n",
    "display.plot_grid('DBZc', level=0, projection=projection)"
   ]
  },
  {
   "cell_type": "code",
   "execution_count": null,
   "metadata": {
    "tags": []
   },
   "outputs": [],
   "source": [
    "display.grid.to_xarray()"
   ]
  },
  {
   "cell_type": "code",
   "execution_count": null,
   "metadata": {
    "tags": []
   },
   "outputs": [],
   "source": [
    "raw = pyart.aux_io.read_gamic(\n",
    "    \"../data/radar/sipam_manaus/arm/201401/RADL08061720140103031200.HDF5\")\n",
    "\n",
    "\"%.2f\" % raw.fixed_angle['data'][0]"
   ]
  },
  {
   "cell_type": "code",
   "execution_count": null,
   "metadata": {
    "tags": []
   },
   "outputs": [],
   "source": [
    "ranges = raw.range['data']\n",
    "elevs = raw.fixed_angle['data']\n",
    "site = (float(raw.longitude['data']),\n",
    "        float(raw.latitude['data']),\n",
    "        float(raw.altitude['data']))\n",
    "beamwidth = float(raw.instrument_parameters['radar_beam_width_h']['data'])\n",
    "\n",
    "\n",
    "ax = wrl.vis.plot_scan_strategy(ranges, elevs, site, beamwidth, vert_res=1000, maxalt=20000, units='km')\n",
    "ax.set_title('SIPAM S-Band')"
   ]
  },
  {
   "cell_type": "code",
   "execution_count": null,
   "metadata": {},
   "outputs": [],
   "source": [
    "# GoAmazon site locations\n",
    "sites = pd.read_csv(\"../data/general/goamazon_sites.csv\", sep=\";\", decimal=\",\")\n",
    "sites['Latitude']"
   ]
  },
  {
   "cell_type": "code",
   "execution_count": null,
   "metadata": {},
   "outputs": [],
   "source": [
    "# Range rings + site locations\n",
    "display = pyart.graph.RadarMapDisplay(raw)\n",
    "fig = plt.figure(figsize = (6,6))\n",
    "ax = fig.add_subplot(111, projection=ccrs.PlateCarree())\n",
    "\n",
    "display.plot_ppi_map(\"corrected_reflectivity\", 0, vmin=0, shapefile=\"../data/general/shapefiles/lineaire_1km\",\n",
    "    shapefile_kwargs={\"facecolor\": \"None\", \"edgecolor\": \"darkblue\", \"alpha\": 0.5, \"linewidth\": 0.75})\n",
    "# GoAmazon sites\n",
    "ax.scatter(sites[\"Longitude\"], sites[\"Latitude\"], s=5, c='red')\n",
    "ax.annotate(sites[\"GoAmazon2014/5 reference\"][0], xy=(sites[\"Longitude\"][0], sites[\"Latitude\"][0]))\n",
    "ax.annotate(sites[\"GoAmazon2014/5 reference\"][1], xy=(sites[\"Longitude\"][1], sites[\"Latitude\"][1]))\n",
    "ax.annotate(sites[\"GoAmazon2014/5 reference\"][2], xy=(sites[\"Longitude\"][2], sites[\"Latitude\"][2]))\n",
    "ax.annotate(sites[\"GoAmazon2014/5 reference\"][3], xy=(sites[\"Longitude\"][3], sites[\"Latitude\"][3]), horizontalalignment='right')\n",
    "ax.annotate(sites[\"GoAmazon2014/5 reference\"][4], xy=(sites[\"Longitude\"][4], sites[\"Latitude\"][4]), horizontalalignment='right')\n",
    "ax.annotate(sites[\"GoAmazon2014/5 reference\"][5], xy=(sites[\"Longitude\"][5], sites[\"Latitude\"][5]))\n",
    "ax.annotate(sites[\"GoAmazon2014/5 reference\"][6], xy=(sites[\"Longitude\"][6], sites[\"Latitude\"][6]), horizontalalignment='right')\n",
    "ax.annotate(sites[\"GoAmazon2014/5 reference\"][7], xy=(sites[\"Longitude\"][7], sites[\"Latitude\"][7]))\n",
    "ax.annotate(sites[\"GoAmazon2014/5 reference\"][8], xy=(sites[\"Longitude\"][8], sites[\"Latitude\"][8]), horizontalalignment='right')\n",
    "# Adding shapefile\n",
    "ax.add_geometries(Reader(\"../data/general/shapefiles/AM_Municipios_2019\").geometries(), ccrs.PlateCarree(), linewidth=0.75,\n",
    "    facecolor=\"None\", edgecolor=\"darkgray\", alpha=0.8)\n",
    "# Adding gridlines\n",
    "gl = ax.gridlines(crs=ccrs.PlateCarree(), draw_labels=True, xlocs=np.arange(-70, -50, 1), ylocs=np.arange(-10, 1, 1), alpha=0.5)\n",
    "gl.top_labels = gl.right_labels = False\n",
    "gl.xformatter = LONGITUDE_FORMATTER\n",
    "gl.yformatter = LATITUDE_FORMATTER\n",
    "display.plot_range_rings([50, 100, 150, 200, 250], ax=ax, col=\"black\", lw=1)\n",
    "plt.savefig(\"figs/sipam_range_rings.png\", dpi=300, bbox_inches=\"tight\")\n"
   ]
  }
 ],
 "metadata": {
  "interpreter": {
   "hash": "d32b0e4e81467ccc4f13ba795e022151ce2d762a6cc362b62533d2f738214da3"
  },
  "kernelspec": {
   "display_name": "Python 3.8.5 64-bit ('amazon-storms-aerosols': conda)",
   "name": "python3"
  },
  "language_info": {
   "name": "python",
   "version": ""
  },
  "orig_nbformat": 2
 },
 "nbformat": 4,
 "nbformat_minor": 2
}