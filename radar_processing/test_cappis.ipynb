{
 "cells": [
  {
   "cell_type": "markdown",
   "metadata": {},
   "source": [
    "# Testing CAPPI data with Py-ART and wradlib\n",
    "\n",
    "@author: Camila Lopes (camila.lopes@iag.usp.br)"
   ]
  },
  {
   "cell_type": "code",
   "execution_count": 1,
   "metadata": {
    "tags": []
   },
   "outputs": [
    {
     "name": "stdout",
     "output_type": "stream",
     "text": [
      "\n",
      "## You are using the Python ARM Radar Toolkit (Py-ART), an open source\n",
      "## library for working with weather radar data. Py-ART is partly\n",
      "## supported by the U.S. Department of Energy as part of the Atmospheric\n",
      "## Radiation Measurement (ARM) Climate Research Facility, an Office of\n",
      "## Science user facility.\n",
      "##\n",
      "## If you use this software to prepare a publication, please cite:\n",
      "##\n",
      "##     JJ Helmus and SM Collis, JORS 2016, doi: 10.5334/jors.119\n",
      "\n"
     ]
    }
   ],
   "source": [
    "import re\n",
    "from datetime import datetime\n",
    "import numpy as np\n",
    "import pandas as pd\n",
    "import matplotlib.pyplot as plt\n",
    "import netCDF4\n",
    "import xarray as xr\n",
    "import cartopy.crs as ccrs\n",
    "from cartopy.mpl.gridliner import LONGITUDE_FORMATTER, LATITUDE_FORMATTER\n",
    "from cartopy.io.shapereader import Reader\n",
    "\n",
    "import pyart\n",
    "# import wradlib as wrl\n",
    "\n",
    "from read_sipam_cappis import read_sipam_cappi"
   ]
  },
  {
   "cell_type": "code",
   "execution_count": null,
   "metadata": {
    "tags": []
   },
   "outputs": [],
   "source": [
    "def ppi_to_grid(filename):\n",
    "\n",
    "    # Read data and convert to grid\n",
    "    radar = pyart.aux_io.read_gamic(filename)\n",
    "    grid = pyart.map.grid_from_radars(\n",
    "        radar, grid_shape=(20, 501, 501),\n",
    "        grid_limits=((1e3, 20e3), (-250e3, 250e3), (-250e3, 250e3))\n",
    "    )\n",
    "\n",
    "    return grid"
   ]
  },
  {
   "cell_type": "code",
   "execution_count": null,
   "metadata": {},
   "outputs": [],
   "source": [
    "filename = \"../data/radar/sipam_manaus/arm_cappi/2014-05/20140509/sbmn_cappi_20140509_233557.nc\"\n",
    "# wset = wrl.io.read_generic_netcdf(filename)"
   ]
  },
  {
   "cell_type": "code",
   "execution_count": null,
   "metadata": {
    "tags": []
   },
   "outputs": [],
   "source": [
    "plt.imshow(wset['variables']['DBZc']['data'][0, 20, :, :])"
   ]
  },
  {
   "cell_type": "code",
   "execution_count": null,
   "metadata": {
    "tags": []
   },
   "outputs": [],
   "source": [
    "xset = xr.open_dataset(filename)\n",
    "xset.variables['z0']"
   ]
  },
  {
   "cell_type": "code",
   "execution_count": null,
   "metadata": {
    "tags": []
   },
   "outputs": [],
   "source": [
    "dset = netCDF4.Dataset(filename)\n",
    "print(dset[\"start_time\"])\n",
    "print(dset[\"stop_time\"])"
   ]
  },
  {
   "cell_type": "code",
   "execution_count": null,
   "metadata": {},
   "outputs": [],
   "source": [
    "print(dset.variables[\"lat0\"][:][-1,-1] - dset.variables[\"lat0\"][:][-2,-2],\n",
    "dset.variables[\"lat0\"][:][-3,-3] - dset.variables[\"lat0\"][:][-2,-2],\n",
    "dset.variables[\"lat0\"][:][-3,-3] - dset.variables[\"lat0\"][:][-4,-4])\n"
   ]
  },
  {
   "cell_type": "code",
   "execution_count": null,
   "metadata": {
    "tags": []
   },
   "outputs": [],
   "source": [
    "dset.variables['time_bounds']"
   ]
  },
  {
   "cell_type": "code",
   "execution_count": null,
   "metadata": {},
   "outputs": [],
   "source": [
    "grid = ppi_to_grid(\"../data/radar/sipam_manaus/arm/201401/RADL08061720140103031200.HDF5\")"
   ]
  },
  {
   "cell_type": "code",
   "execution_count": null,
   "metadata": {
    "tags": []
   },
   "outputs": [],
   "source": [
    "filename = \"../data/radar/sipam_manaus/arm_cappi/2014-05/20140509/sbmn_cappi_20140509_114801.nc\"\n",
    "\n",
    "cappi = read_sipam_cappi(filename)"
   ]
  },
  {
   "cell_type": "code",
   "execution_count": null,
   "metadata": {},
   "outputs": [],
   "source": [
    "display = pyart.graph.GridMapDisplay(cappi)\n",
    "display.plot_grid(\"DBZc\", level=5)\n"
   ]
  },
  {
   "cell_type": "code",
   "execution_count": null,
   "metadata": {},
   "outputs": [],
   "source": [
    "cappi.instrument_parameters"
   ]
  },
  {
   "cell_type": "code",
   "execution_count": null,
   "metadata": {},
   "outputs": [],
   "source": [
    "test = pyart.retrieve.grid_shift(cappi, advection=(0,0), trim_edges=50)\n",
    "print(test.get_point_longitude_latitude()[0].min(),\n",
    "        test.get_point_longitude_latitude()[1].min(),\n",
    "        test.get_point_longitude_latitude()[0].max(),\n",
    "        test.get_point_longitude_latitude()[1].max())\n",
    "display = pyart.graph.GridMapDisplay(test)\n",
    "display.plot_grid(\"range\", level=5, vmin=0, vmax=150)\n",
    "display.plot_crosshairs()"
   ]
  },
  {
   "cell_type": "code",
   "execution_count": null,
   "metadata": {},
   "outputs": [],
   "source": [
    "print(cappi.get_point_longitude_latitude()[0].min(),\n",
    "        cappi.get_point_longitude_latitude()[1].min(),\n",
    "        cappi.get_point_longitude_latitude()[0].max(),\n",
    "        cappi.get_point_longitude_latitude()[1].max())\n",
    "display = pyart.graph.GridMapDisplay(cappi)\n",
    "display.plot_grid(\"range\", level=5, vmin=0, vmax=150)\n",
    "display.plot_crosshairs()"
   ]
  },
  {
   "cell_type": "code",
   "execution_count": null,
   "metadata": {
    "tags": []
   },
   "outputs": [],
   "source": [
    "radar = wrl.io.hdf.read_generic_hdf5(\"../data/radar/sipam_manaus/arm/201401/RADL08061720140117013600.HDF5\")"
   ]
  },
  {
   "cell_type": "code",
   "execution_count": null,
   "metadata": {},
   "outputs": [],
   "source": [
    "print(radar.keys())\n",
    "\n",
    "# print(radar['scan0/how']['attrs']['elevation'])\n",
    "# print(radar['scan1/how']['attrs']['elevation'])\n",
    "# print(radar['scan2/how']['attrs']['elevation'])\n",
    "# print(radar['scan3/how']['attrs']['elevation'])\n",
    "# print(radar['scan4/how']['attrs']['elevation'])\n",
    "# print(radar['scan5/how']['attrs']['elevation'])\n",
    "# print(radar['scan6/how']['attrs']['elevation'])\n",
    "# print(radar['scan7/how']['attrs']['elevation'])\n",
    "# print(radar['scan8/how']['attrs']['elevation'])\n",
    "# print(radar['scan9/how']['attrs']['elevation'])\n",
    "# print(radar['scan10/how']['attrs']['elevation'])\n",
    "# print(radar['scan11/how']['attrs']['elevation'])\n",
    "# print(radar['scan12/how']['attrs']['elevation'])\n",
    "\n",
    "print(radar['where'])"
   ]
  },
  {
   "cell_type": "code",
   "execution_count": null,
   "metadata": {
    "tags": []
   },
   "outputs": [],
   "source": [
    "pyart.util.datetime_from_grid(cappi).strftime('%Y%m%d%H%M%S')"
   ]
  },
  {
   "cell_type": "code",
   "execution_count": null,
   "metadata": {
    "tags": []
   },
   "outputs": [],
   "source": [
    "np.array(np.ma.MaskedArray.tolist(cappi.fields['DBZc']['data']))\n",
    "# np.nanmax(x[x != None])"
   ]
  },
  {
   "cell_type": "code",
   "execution_count": null,
   "metadata": {
    "tags": []
   },
   "outputs": [],
   "source": [
    "display = pyart.graph.GridMapDisplay(cappi)\n",
    "projection = ccrs.PlateCarree()\n",
    "display.plot_grid('DBZc', level=0, projection=projection)"
   ]
  },
  {
   "cell_type": "code",
   "execution_count": null,
   "metadata": {
    "tags": []
   },
   "outputs": [],
   "source": [
    "display.grid.to_xarray()"
   ]
  },
  {
   "cell_type": "code",
   "execution_count": null,
   "metadata": {
    "tags": []
   },
   "outputs": [],
   "source": [
    "raw = pyart.aux_io.read_gamic(\n",
    "    \"../data/radar/sipam_manaus/arm/201401/RADL08061720140103031200.HDF5\")\n",
    "\n",
    "\"%.2f\" % raw.fixed_angle['data'][0]"
   ]
  },
  {
   "cell_type": "code",
   "execution_count": null,
   "metadata": {
    "tags": []
   },
   "outputs": [],
   "source": [
    "ranges = raw.range['data']\n",
    "elevs = raw.fixed_angle['data']\n",
    "site = (float(raw.longitude['data']),\n",
    "        float(raw.latitude['data']),\n",
    "        float(raw.altitude['data']))\n",
    "beamwidth = float(raw.instrument_parameters['radar_beam_width_h']['data'])\n",
    "\n",
    "\n",
    "ax = wrl.vis.plot_scan_strategy(ranges, elevs, site, beamwidth, vert_res=1000, maxalt=20000, units='km')\n",
    "ax.set_title('SIPAM S-Band')"
   ]
  },
  {
   "cell_type": "code",
   "execution_count": null,
   "metadata": {},
   "outputs": [],
   "source": [
    "# GoAmazon site locations\n",
    "sites = pd.read_csv(\"../data/general/goamazon_sites.csv\", sep=\";\", decimal=\",\")\n",
    "sites['Latitude']"
   ]
  },
  {
   "cell_type": "code",
   "execution_count": null,
   "metadata": {},
   "outputs": [],
   "source": [
    "# Range rings + site locations\n",
    "display = pyart.graph.RadarMapDisplay(raw)\n",
    "fig = plt.figure(figsize = (6,6))\n",
    "ax = fig.add_subplot(111, projection=ccrs.PlateCarree())\n",
    "\n",
    "display.plot_ppi_map(\"corrected_reflectivity\", 0, vmin=0, shapefile=\"../data/general/shapefiles/lineaire_1km\",\n",
    "    shapefile_kwargs={\"facecolor\": \"None\", \"edgecolor\": \"darkblue\", \"alpha\": 0.5, \"linewidth\": 0.75})\n",
    "# GoAmazon sites\n",
    "ax.scatter(sites[\"Longitude\"], sites[\"Latitude\"], s=5, c='red')\n",
    "ax.annotate(sites[\"GoAmazon2014/5 reference\"][0], xy=(sites[\"Longitude\"][0], sites[\"Latitude\"][0]))\n",
    "ax.annotate(sites[\"GoAmazon2014/5 reference\"][1], xy=(sites[\"Longitude\"][1], sites[\"Latitude\"][1]))\n",
    "ax.annotate(sites[\"GoAmazon2014/5 reference\"][2], xy=(sites[\"Longitude\"][2], sites[\"Latitude\"][2]))\n",
    "ax.annotate(sites[\"GoAmazon2014/5 reference\"][3], xy=(sites[\"Longitude\"][3], sites[\"Latitude\"][3]), horizontalalignment='right')\n",
    "ax.annotate(sites[\"GoAmazon2014/5 reference\"][4], xy=(sites[\"Longitude\"][4], sites[\"Latitude\"][4]), horizontalalignment='right')\n",
    "ax.annotate(sites[\"GoAmazon2014/5 reference\"][5], xy=(sites[\"Longitude\"][5], sites[\"Latitude\"][5]))\n",
    "ax.annotate(sites[\"GoAmazon2014/5 reference\"][6], xy=(sites[\"Longitude\"][6], sites[\"Latitude\"][6]), horizontalalignment='right')\n",
    "ax.annotate(sites[\"GoAmazon2014/5 reference\"][7], xy=(sites[\"Longitude\"][7], sites[\"Latitude\"][7]))\n",
    "ax.annotate(sites[\"GoAmazon2014/5 reference\"][8], xy=(sites[\"Longitude\"][8], sites[\"Latitude\"][8]), horizontalalignment='right')\n",
    "# Adding shapefile\n",
    "ax.add_geometries(Reader(\"../data/general/shapefiles/AM_Municipios_2019\").geometries(), ccrs.PlateCarree(), linewidth=0.75,\n",
    "    facecolor=\"None\", edgecolor=\"darkgray\", alpha=0.8)\n",
    "# Adding gridlines\n",
    "gl = ax.gridlines(crs=ccrs.PlateCarree(), draw_labels=True, xlocs=np.arange(-70, -50, 1), ylocs=np.arange(-10, 1, 1), alpha=0.5)\n",
    "gl.top_labels = gl.right_labels = False\n",
    "gl.xformatter = LONGITUDE_FORMATTER\n",
    "gl.yformatter = LATITUDE_FORMATTER\n",
    "display.plot_range_rings([50, 100, 150, 200, 250], ax=ax, col=\"black\", lw=1)\n",
    "plt.savefig(\"figs/sipam_range_rings.png\", dpi=300, bbox_inches=\"tight\")\n"
   ]
  },
  {
   "cell_type": "code",
   "execution_count": null,
   "metadata": {},
   "outputs": [],
   "source": [
    "# cappi = read_sipam_cappi(\"../data/radar/sipam_manaus/arm_cappi/2014-09/20140918/sbmn_cappi_20140918_140007.nc\")\n",
    "dset = netCDF4.Dataset(\"../data/radar/sipam_manaus/arm_cappi/2015-04/20150403/sbmn_cappi_20150403_084807.nc\")\n",
    "# wset = wrl.io.read_generic_netcdf(\"../data/radar/sipam_manaus/arm_cappi/2015-04/20150403/sbmn_cappi_20150403_084807.nc\")"
   ]
  },
  {
   "cell_type": "code",
   "execution_count": null,
   "metadata": {},
   "outputs": [],
   "source": [
    "print(cappi.get_point_longitude_latitude()[0].min(),\n",
    "        cappi.get_point_longitude_latitude()[1].min(),\n",
    "        cappi.get_point_longitude_latitude()[0].max(),\n",
    "        cappi.get_point_longitude_latitude()[1].max())\n",
    "display = pyart.graph.GridMapDisplay(cappi)\n",
    "display.plot_grid(\"DBZc\", level=3, vmin=-10, vmax=70, imshow=True)"
   ]
  },
  {
   "cell_type": "code",
   "execution_count": null,
   "metadata": {},
   "outputs": [],
   "source": [
    "subset = slice(45, -45)\n",
    "test = np.flipud(cappi.fields['DBZc']['data'][5][subset, subset])\n",
    "plt.imshow(test, vmin=-10, vmax=70)\n",
    "plt.colorbar()"
   ]
  },
  {
   "cell_type": "code",
   "execution_count": null,
   "metadata": {},
   "outputs": [],
   "source": [
    "print(cappi.get_point_longitude_latitude()[0].shape)"
   ]
  },
  {
   "cell_type": "code",
   "execution_count": null,
   "metadata": {},
   "outputs": [],
   "source": [
    "# print(dset.variables[\"lat0\"][-1,:])\n",
    "plt.imshow(dset.variables[\"DBZc\"][0][5])"
   ]
  },
  {
   "cell_type": "code",
   "execution_count": null,
   "metadata": {},
   "outputs": [],
   "source": [
    "plt.imshow(wset['variables']['DBZc']['data'][0][5])"
   ]
  },
  {
   "cell_type": "code",
   "execution_count": null,
   "metadata": {},
   "outputs": [],
   "source": [
    "# Read CPTEC data\n",
    "cptec_file = \"/home/camila/git/amazon-storms-aerosols/data/radar/sipam_manaus/cptec_cappi/2015/04/cappi_201504030848.dat\"\n",
    "cptec = np.fromfile(cptec_file, dtype=\"float32\").reshape(15,500,500)\n",
    "cptec[cptec == -99.] = np.nan"
   ]
  },
  {
   "cell_type": "code",
   "execution_count": null,
   "metadata": {},
   "outputs": [],
   "source": [
    "cptec_date =  datetime.strptime(re.findall(r\"\\d{12}\", cptec_file)[0], \"%Y%m%d%H%M%S\")"
   ]
  },
  {
   "cell_type": "code",
   "execution_count": null,
   "metadata": {},
   "outputs": [],
   "source": [
    "cptec_date"
   ]
  },
  {
   "cell_type": "code",
   "execution_count": null,
   "metadata": {},
   "outputs": [],
   "source": [
    "# Read CPTEC data\n",
    "cptec_file = \"/home/camila/git/amazon-storms-aerosols/data/radar/sipam_manaus/cptec_cappi/2015/04/cappi_201504030848.dat\"\n",
    "cptec = np.fromfile(cptec_file, dtype=\"float32\").reshape(15,500,500)[:,::2,::2]\n",
    "cptec[cptec == -99.] = np.nan\n",
    "\n",
    "# Lat/lon grids\n",
    "lat_file = \"/home/camila/git/amazon-storms-aerosols/data/radar/sipam_manaus/cptec_cappi/lat_SBMN_500.txt\"\n",
    "lat_grid = np.fromfile(lat_file, sep=\"   \").reshape(500,500)[::2,::2]\n",
    "lon_file = \"/home/camila/git/amazon-storms-aerosols/data/radar/sipam_manaus/cptec_cappi/lon_SBMN_500.txt\"\n",
    "lon_grid = np.fromfile(lon_file, sep=\"   \").reshape(500,500)[::2,::2]"
   ]
  },
  {
   "cell_type": "code",
   "execution_count": null,
   "metadata": {},
   "outputs": [],
   "source": [
    "dset.variables[\"time\"]"
   ]
  },
  {
   "cell_type": "code",
   "execution_count": 27,
   "metadata": {},
   "outputs": [
    {
     "data": {
      "text/plain": [
       "'/home/camila/git/amazon-storms-aerosols/data/radar/sipam_manaus/cptec_cappi'"
      ]
     },
     "execution_count": 27,
     "metadata": {},
     "output_type": "execute_result"
    }
   ],
   "source": [
    "\"/\".join(cptec_file.split(\"/\")[:-3])"
   ]
  },
  {
   "cell_type": "code",
   "execution_count": 2,
   "metadata": {},
   "outputs": [],
   "source": [
    "from read_sipam_cappis_cptec import read_simple_cappi\n",
    "\n",
    "cptec_file = \"/home/camila/git/amazon-storms-aerosols/data/radar/sipam_manaus/cptec_cappi/2015/04/cappi_201504030848.dat\"\n",
    "l_path = \"/home/camila/git/amazon-storms-aerosols/data/radar/sipam_manaus/cptec_cappi\"\n",
    "cptec, coords = read_simple_cappi(cptec_file, l_path)"
   ]
  },
  {
   "cell_type": "code",
   "execution_count": 4,
   "metadata": {},
   "outputs": [],
   "source": [
    "tstamp = datetime.strptime(re.findall(r\"\\d{12}\", cptec_file)[0], \"%Y%m%d%H%M%S\")"
   ]
  },
  {
   "cell_type": "code",
   "execution_count": 6,
   "metadata": {},
   "outputs": [
    {
     "data": {
      "text/plain": [
       "datetime.date(2015, 4, 3)"
      ]
     },
     "execution_count": 6,
     "metadata": {},
     "output_type": "execute_result"
    }
   ],
   "source": [
    "tstamp.date()"
   ]
  },
  {
   "cell_type": "code",
   "execution_count": 13,
   "metadata": {},
   "outputs": [],
   "source": [
    "start_date = [datetime(2014, 1, 3), \n",
    "    datetime(2014, 2, 6), datetime(2014, 8, 20), datetime(2014, 10, 17), \n",
    "    datetime(2015, 3, 7), datetime(2015, 7, 6), datetime(2015, 10, 29)\n",
    "]\n",
    "end_date = [datetime(2014, 2, 5), \n",
    "    datetime(2014, 8, 19), datetime(2014, 10, 16), datetime(2015, 3, 6),\n",
    "    datetime(2015, 7, 5), datetime(2015, 10, 28), datetime(2015, 12, 31)\n",
    "]\n",
    "bias = [1., 3., -2.5, -5.5, -4., -1.5, 1.]"
   ]
  },
  {
   "cell_type": "code",
   "execution_count": 25,
   "metadata": {},
   "outputs": [
    {
     "data": {
      "text/plain": [
       "(15, 250, 250)"
      ]
     },
     "execution_count": 25,
     "metadata": {},
     "output_type": "execute_result"
    }
   ],
   "source": [
    "cptec.shape"
   ]
  },
  {
   "cell_type": "code",
   "execution_count": 26,
   "metadata": {},
   "outputs": [
    {
     "data": {
      "text/plain": [
       "array([[[-101.5, -101.5, -101.5, ..., -101.5, -101.5, -101.5],\n",
       "        [-101.5, -101.5, -101.5, ..., -101.5, -101.5, -101.5],\n",
       "        [-101.5, -101.5, -101.5, ..., -101.5, -101.5, -101.5],\n",
       "        ...,\n",
       "        [-101.5, -101.5, -101.5, ..., -101.5, -101.5, -101.5],\n",
       "        [-101.5, -101.5, -101.5, ..., -101.5, -101.5, -101.5],\n",
       "        [-101.5, -101.5, -101.5, ..., -101.5, -101.5, -101.5]],\n",
       "\n",
       "       [[-101.5, -101.5, -101.5, ..., -101.5, -101.5, -101.5],\n",
       "        [-101.5, -101.5, -101.5, ..., -101.5, -101.5, -101.5],\n",
       "        [-101.5, -101.5, -101.5, ..., -101.5, -101.5, -101.5],\n",
       "        ...,\n",
       "        [-101.5, -101.5, -101.5, ..., -101.5, -101.5, -101.5],\n",
       "        [-101.5, -101.5, -101.5, ..., -101.5, -101.5, -101.5],\n",
       "        [-101.5, -101.5, -101.5, ..., -101.5, -101.5, -101.5]],\n",
       "\n",
       "       [[-101.5, -101.5, -101.5, ..., -101.5, -101.5, -101.5],\n",
       "        [-101.5, -101.5, -101.5, ..., -101.5, -101.5, -101.5],\n",
       "        [-101.5, -101.5, -101.5, ..., -101.5, -101.5, -101.5],\n",
       "        ...,\n",
       "        [-101.5, -101.5, -101.5, ..., -101.5, -101.5, -101.5],\n",
       "        [-101.5, -101.5, -101.5, ..., -101.5, -101.5, -101.5],\n",
       "        [-101.5, -101.5, -101.5, ..., -101.5, -101.5, -101.5]],\n",
       "\n",
       "       ...,\n",
       "\n",
       "       [[-101.5, -101.5, -101.5, ..., -101.5, -101.5, -101.5],\n",
       "        [-101.5, -101.5, -101.5, ..., -101.5, -101.5, -101.5],\n",
       "        [-101.5, -101.5, -101.5, ..., -101.5, -101.5, -101.5],\n",
       "        ...,\n",
       "        [-101.5, -101.5, -101.5, ..., -101.5, -101.5, -101.5],\n",
       "        [-101.5, -101.5, -101.5, ..., -101.5, -101.5, -101.5],\n",
       "        [-101.5, -101.5, -101.5, ..., -101.5, -101.5, -101.5]],\n",
       "\n",
       "       [[-101.5, -101.5, -101.5, ..., -101.5, -101.5, -101.5],\n",
       "        [-101.5, -101.5, -101.5, ..., -101.5, -101.5, -101.5],\n",
       "        [-101.5, -101.5, -101.5, ..., -101.5, -101.5, -101.5],\n",
       "        ...,\n",
       "        [-101.5, -101.5, -101.5, ..., -101.5, -101.5, -101.5],\n",
       "        [-101.5, -101.5, -101.5, ..., -101.5, -101.5, -101.5],\n",
       "        [-101.5, -101.5, -101.5, ..., -101.5, -101.5, -101.5]],\n",
       "\n",
       "       [[-101.5, -101.5, -101.5, ..., -101.5, -101.5, -101.5],\n",
       "        [-101.5, -101.5, -101.5, ..., -101.5, -101.5, -101.5],\n",
       "        [-101.5, -101.5, -101.5, ..., -101.5, -101.5, -101.5],\n",
       "        ...,\n",
       "        [-101.5, -101.5, -101.5, ..., -101.5, -101.5, -101.5],\n",
       "        [-101.5, -101.5, -101.5, ..., -101.5, -101.5, -101.5],\n",
       "        [-101.5, -101.5, -101.5, ..., -101.5, -101.5, -101.5]]],\n",
       "      dtype=float32)"
      ]
     },
     "execution_count": 26,
     "metadata": {},
     "output_type": "execute_result"
    }
   ],
   "source": [
    "cptec + bias[2]"
   ]
  },
  {
   "cell_type": "code",
   "execution_count": 24,
   "metadata": {},
   "outputs": [
    {
     "data": {
      "text/plain": [
       "False"
      ]
     },
     "execution_count": 24,
     "metadata": {},
     "output_type": "execute_result"
    }
   ],
   "source": [
    "after = tstamp.date() >= start_date[0].date()\n",
    "before = tstamp.date() <= end_date[0].date()\n",
    "after & before"
   ]
  },
  {
   "cell_type": "markdown",
   "metadata": {},
   "source": [
    "Start Date   Stop Date   Calibration Offset (dB)\n",
    "1/3/2014     2/5/2014    + 1.0\n",
    "2/6/2014     8/19/2014   + 3.0\n",
    "8/20/2014    10/16/2014  - 2.5\n",
    "10/17/2014   3/6/2015    - 5.5\n",
    "3/7/2015     7/5/2015    - 4.0\n",
    "7/6/2015     10/28/2015  - 1.5\n",
    "10/29/2015   12/31/2015  + 1.0"
   ]
  },
  {
   "cell_type": "code",
   "execution_count": null,
   "metadata": {},
   "outputs": [],
   "source": [
    "import pyart\n",
    "\n",
    "from read_sipam_cappis_cptec import read_sipam_cappi\n",
    "\n",
    "cpfile = read_sipam_cappi(\"/home/camila/git/amazon-storms-aerosols/data/radar/sipam_manaus/cptec_cappi/2015/04/cappi_201504030848.dat\")"
   ]
  },
  {
   "cell_type": "code",
   "execution_count": null,
   "metadata": {},
   "outputs": [],
   "source": [
    "cpfile.get_point_longitude_latitude()[0]"
   ]
  },
  {
   "cell_type": "code",
   "execution_count": null,
   "metadata": {},
   "outputs": [],
   "source": [
    "display = pyart.graph.GridMapDisplay(cpfile)\n",
    "display.plot_grid(\"corrected_reflectivity\", level=1, vmin=0, mask_outside=True)"
   ]
  }
 ],
 "metadata": {
  "kernelspec": {
   "display_name": "Python 3.9.7 ('amazon-storms-aerosols')",
   "language": "python",
   "name": "python3"
  },
  "language_info": {
   "codemirror_mode": {
    "name": "ipython",
    "version": 3
   },
   "file_extension": ".py",
   "mimetype": "text/x-python",
   "name": "python",
   "nbconvert_exporter": "python",
   "pygments_lexer": "ipython3",
   "version": "3.9.7"
  },
  "orig_nbformat": 2,
  "vscode": {
   "interpreter": {
    "hash": "67d2af2856ad03febfd1d98eed6c91826723c285709554c010c58e904000a44c"
   }
  }
 },
 "nbformat": 4,
 "nbformat_minor": 2
}
